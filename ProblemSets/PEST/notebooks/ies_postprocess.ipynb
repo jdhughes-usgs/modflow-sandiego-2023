{
 "cells": [
  {
   "cell_type": "code",
   "execution_count": null,
   "id": "19620d13",
   "metadata": {},
   "outputs": [],
   "source": [
    "import pandas as pd\n",
    "import numpy as np\n",
    "import matplotlib.pyplot as plt\n",
    "from matplotlib.backends.backend_pdf import PdfPages\n",
    "import pyemu\n",
    "from pathlib import Path\n",
    "import os, shutil"
   ]
  },
  {
   "cell_type": "code",
   "execution_count": null,
   "id": "e8130527",
   "metadata": {},
   "outputs": [],
   "source": [
    "ies_dir = Path('../tmprun/')"
   ]
  },
  {
   "cell_type": "markdown",
   "id": "36e3c8ae",
   "metadata": {},
   "source": [
    "## take a look at the prior MC "
   ]
  },
  {
   "cell_type": "code",
   "execution_count": null,
   "id": "5b2cdc30",
   "metadata": {},
   "outputs": [],
   "source": [
    "phi = pd.read_csv(ies_dir / 'mv.ies.phi.actual.csv').T.iloc[6:]\n",
    "phi0 = phi[0]"
   ]
  },
  {
   "cell_type": "code",
   "execution_count": null,
   "id": "6a39ed13",
   "metadata": {
    "scrolled": false
   },
   "outputs": [],
   "source": [
    "phi0.hist(bins=50)\n"
   ]
  },
  {
   "cell_type": "code",
   "execution_count": null,
   "id": "3ca2feb3",
   "metadata": {},
   "outputs": [],
   "source": [
    "phitoohigh = 25000\n",
    "phi0 = phi0.loc[phi0 < phitoohigh]\n",
    "phi0"
   ]
  },
  {
   "cell_type": "code",
   "execution_count": null,
   "id": "25c1bf98",
   "metadata": {},
   "outputs": [],
   "source": [
    "keep_reals0 = phi0.index\n",
    "phi0.hist(bins=20)"
   ]
  },
  {
   "cell_type": "markdown",
   "id": "6689ce76",
   "metadata": {},
   "source": [
    "## let's check out the observations"
   ]
  },
  {
   "cell_type": "code",
   "execution_count": null,
   "id": "bec653d4",
   "metadata": {},
   "outputs": [],
   "source": [
    "pst = pyemu.Pst(str(ies_dir / 'mv.ies.pst'))"
   ]
  },
  {
   "cell_type": "code",
   "execution_count": null,
   "id": "0eec8357",
   "metadata": {},
   "outputs": [],
   "source": [
    "obsdat = pst.observation_data.copy()\n",
    "obsdat.sample(5)"
   ]
  },
  {
   "cell_type": "code",
   "execution_count": null,
   "id": "c03e3398",
   "metadata": {},
   "outputs": [],
   "source": [
    "obs = pd.read_csv(ies_dir / 'mv.ies.0.obs.csv', index_col=0)\n",
    "obs = obs.loc[keep_reals0]\n",
    "obs_noise = pd.read_csv(ies_dir / 'mv.ies.obs+noise.csv', index_col=0)\n",
    "obs_noise0 = obs_noise.loc[keep_reals0].copy()"
   ]
  },
  {
   "cell_type": "code",
   "execution_count": null,
   "id": "3e3d31ca",
   "metadata": {},
   "outputs": [],
   "source": [
    "with PdfPages('allobs.prior.pdf') as outpdf:\n",
    "    for cc in obs.columns:\n",
    "        plt.figure()\n",
    "        ax = obs[cc].hist(bins=20, color='grey', alpha=.5, density=1)\n",
    "        obs_noise0[cc].hist(bins=20, color='orange', alpha=.5, density=1)\n",
    "        ax.axvline(obsdat.loc[cc].obsval, color='orange')\n",
    "        plt.title(cc)\n",
    "        if 'chd' in cc:\n",
    "#             ax.set_ylim((0,1e-5))\n",
    "            ax.set_yscale('log')\n",
    "        plt.tight_layout()\n",
    "        outpdf.savefig()\n",
    "        plt.close('all')"
   ]
  },
  {
   "cell_type": "code",
   "execution_count": null,
   "id": "3905cc63",
   "metadata": {},
   "outputs": [],
   "source": [
    "phi = pd.read_csv(ies_dir / 'mv.ies.phi.actual.csv').T.iloc[6:]\n",
    "# for cc in phi.columns:\n",
    "#     phi.loc[phi[cc]>1e6,cc] = np.nan"
   ]
  },
  {
   "cell_type": "code",
   "execution_count": null,
   "id": "fa9c32c8",
   "metadata": {},
   "outputs": [],
   "source": [
    "fig, ax = plt.subplots(1,2, figsize=(8,5))\n",
    "phi.T.plot(legend=False, color='grey',alpha=.2, lw=0.5, ax=ax[0])\n",
    "phi.loc['base'].plot(color='b', ax=ax[0])\n",
    "ax[0].set_yscale('log')\n",
    "ax[0].set_title('log-scale $\\\\Phi$')\n",
    "phi.T.plot(legend=False, color='grey',alpha=.2, lw=0.5, ax=ax[1])\n",
    "phi.loc['base'].plot(color='b', ax=ax[1])\n",
    "ax[1].set_title('linear-scale $\\\\Phi$');\n"
   ]
  },
  {
   "cell_type": "code",
   "execution_count": null,
   "id": "ac31a6bb",
   "metadata": {},
   "outputs": [],
   "source": [
    "citer = 3\n",
    "obs_final = pd.read_csv(ies_dir / f'mv.ies.{citer}.obs.csv', index_col=0)"
   ]
  },
  {
   "cell_type": "code",
   "execution_count": null,
   "id": "cde59fd3",
   "metadata": {},
   "outputs": [],
   "source": [
    "phi[citer].hist(bins=20)"
   ]
  },
  {
   "cell_type": "code",
   "execution_count": null,
   "id": "02a42eb8",
   "metadata": {},
   "outputs": [],
   "source": [
    "phitoohigh_final = 800\n",
    "phi_final = phi[citer].loc[phi[citer]<phitoohigh_final].copy()\n",
    "keep_reals_final = phi_final.index\n",
    "phi_final.hist(bins=20)"
   ]
  },
  {
   "cell_type": "code",
   "execution_count": null,
   "id": "6b102149",
   "metadata": {},
   "outputs": [],
   "source": [
    "obs_final = obs_final.loc[keep_reals_final]\n",
    "obs_final"
   ]
  },
  {
   "cell_type": "code",
   "execution_count": null,
   "id": "69c99b54",
   "metadata": {},
   "outputs": [],
   "source": [
    "obs_noise_final = obs_noise.loc[keep_reals_final]"
   ]
  },
  {
   "cell_type": "code",
   "execution_count": null,
   "id": "b087bfa3",
   "metadata": {},
   "outputs": [],
   "source": [
    "obs"
   ]
  },
  {
   "cell_type": "code",
   "execution_count": null,
   "id": "9e1a8462",
   "metadata": {},
   "outputs": [],
   "source": [
    "with PdfPages('allobs.posterior.pdf') as outpdf:\n",
    "    for cc in obs.columns:\n",
    "        plt.figure()\n",
    "        ax = obs[cc].hist(bins=20, color='grey', alpha=.5, density=1)\n",
    "        obs_noise_final[cc].hist(bins=20, color='orange', alpha=.5, density=1)\n",
    "        obs_final[cc].hist(bins=20, color='blue', density=1, alpha=.7)\n",
    "        ax.axvline(obsdat.loc[cc].obsval, color='orange')\n",
    "        plt.title(cc)\n",
    "        if 'chd' in cc:\n",
    "#             ax.set_ylim((0,1e-5))\n",
    "            ax.set_yscale('log')\n",
    "        plt.tight_layout()\n",
    "        outpdf.savefig()\n",
    "        plt.close('all')"
   ]
  },
  {
   "cell_type": "markdown",
   "id": "01664344",
   "metadata": {},
   "source": [
    "# Visualize a single set of fields"
   ]
  },
  {
   "cell_type": "code",
   "execution_count": null,
   "id": "82ac835e",
   "metadata": {},
   "outputs": [],
   "source": [
    "tmpdir = Path('../scratch')\n",
    "if tmpdir.exists():\n",
    "    shutil.rmtree(tmpdir)\n",
    "shutil.copytree(ies_dir, tmpdir)"
   ]
  },
  {
   "cell_type": "code",
   "execution_count": null,
   "id": "561f162b",
   "metadata": {},
   "outputs": [],
   "source": [
    "pst = pyemu.Pst(str(tmpdir / 'mv.ies.pst'))"
   ]
  },
  {
   "cell_type": "code",
   "execution_count": null,
   "id": "0c87f231",
   "metadata": {},
   "outputs": [],
   "source": [
    "pars = pd.read_csv(ies_dir / f'mv.ies.{citer}.par.csv', index_col=0)\n",
    "pars = pars.loc[keep_reals_final]"
   ]
  },
  {
   "cell_type": "code",
   "execution_count": null,
   "id": "df64b042",
   "metadata": {},
   "outputs": [],
   "source": [
    "pst.control_data.noptmax=0"
   ]
  },
  {
   "cell_type": "markdown",
   "id": "925261d5",
   "metadata": {},
   "source": [
    "### good to check out the base realization, but could choose another"
   ]
  },
  {
   "cell_type": "code",
   "execution_count": null,
   "id": "3218e4d4",
   "metadata": {},
   "outputs": [],
   "source": [
    "real_to_plot = 'base'"
   ]
  },
  {
   "cell_type": "code",
   "execution_count": null,
   "id": "e405bd96",
   "metadata": {},
   "outputs": [],
   "source": [
    "pst.parameter_data.loc[pars.loc[real_to_plot].index, 'parval1'] = pars.loc[real_to_plot]"
   ]
  },
  {
   "cell_type": "code",
   "execution_count": null,
   "id": "d14933d0",
   "metadata": {},
   "outputs": [],
   "source": [
    "pst.write(str(tmpdir / 'testrun.pst'), version=2)"
   ]
  },
  {
   "cell_type": "code",
   "execution_count": null,
   "id": "28666175",
   "metadata": {},
   "outputs": [],
   "source": [
    "pyemu.os_utils.run('pestpp-ies testrun.pst', str(tmpdir))"
   ]
  },
  {
   "cell_type": "markdown",
   "id": "6fc9064c",
   "metadata": {},
   "source": [
    "## viz the k fields"
   ]
  },
  {
   "cell_type": "code",
   "execution_count": null,
   "id": "ccdd6467",
   "metadata": {},
   "outputs": [],
   "source": [
    "fig,ax = plt.subplots(1,2,figsize=(10,5))\n",
    "a = ax[0].imshow(np.loadtxt(tmpdir / 'k_aq.ref'))\n",
    "plt.colorbar(a)\n",
    "ax[0].set_title('Aquifer KH')\n",
    "c = ax[1].imshow(np.loadtxt('../pest_background_files/k_aq.ref'))\n",
    "ax[1].set_title('Zoned KH')\n",
    "plt.colorbar(c)\n",
    "plt.suptitle(f'realization: {real_to_plot}, iteration: {citer}')"
   ]
  },
  {
   "cell_type": "code",
   "execution_count": null,
   "id": "aa75af63",
   "metadata": {},
   "outputs": [],
   "source": [
    "pars.kaniso.hist(bins=50)\n",
    "plt.title('Anisotropy: aquifer');"
   ]
  },
  {
   "cell_type": "code",
   "execution_count": null,
   "id": "69de081d",
   "metadata": {},
   "outputs": [],
   "source": [
    "pars.hk_clay.hist(bins=50)\n",
    "plt.xscale('log')\n",
    "plt.title('Clay HK')"
   ]
  },
  {
   "cell_type": "code",
   "execution_count": null,
   "id": "29a311c6",
   "metadata": {},
   "outputs": [],
   "source": [
    "pars.kaniso_clay.hist(bins=50)\n",
    "plt.title('Anisotropy: clay layer');"
   ]
  },
  {
   "cell_type": "code",
   "execution_count": null,
   "id": "071d253b",
   "metadata": {},
   "outputs": [],
   "source": [
    "pars.rch.hist(bins=50)\n",
    "plt.title('Recharge');"
   ]
  },
  {
   "cell_type": "markdown",
   "id": "d96424df",
   "metadata": {},
   "source": [
    "# viz the spatial residuals for heads"
   ]
  },
  {
   "cell_type": "code",
   "execution_count": null,
   "id": "1f12dd33",
   "metadata": {},
   "outputs": [],
   "source": [
    "# read in the obs file to figure out the observation well locations"
   ]
  },
  {
   "cell_type": "code",
   "execution_count": null,
   "id": "ea365ab1",
   "metadata": {},
   "outputs": [],
   "source": [
    "obsfile = [i.strip() for i in open('../pest_background_files/at.obs', 'r').readlines()]\n",
    "j = 0\n",
    "lox = []\n",
    "for i in obsfile:\n",
    "    if 'continuous' in i.lower():\n",
    "        lox.append(j)\n",
    "    j+=1\n",
    "lox"
   ]
  },
  {
   "cell_type": "code",
   "execution_count": null,
   "id": "29593b5c",
   "metadata": {},
   "outputs": [],
   "source": [
    "w_lox = pd.read_csv('../pest_background_files/at.obs', skiprows = lox[0]+1, nrows=17, delim_whitespace=True, header=None,\n",
    "           names=['obsname','obstype','lay','row','col'], index_col=0)\n",
    "\n",
    "u_lox = pd.read_csv('../pest_background_files/at.obs', skiprows = lox[2]+1, nrows=17, delim_whitespace=True, header=None,\n",
    "           names=['obsname','obstype','lay','row','col'], index_col=0)\n",
    "for cc in ['lay','row','col']:\n",
    "    for clox in [w_lox,u_lox]:\n",
    "        clox[cc] -=1\n"
   ]
  },
  {
   "cell_type": "code",
   "execution_count": null,
   "id": "b978d14e",
   "metadata": {},
   "outputs": [],
   "source": [
    "wobs = obs_final.T.loc[w_lox.index]\n",
    "uobs = obs_final.T.loc[u_lox.index]"
   ]
  },
  {
   "cell_type": "code",
   "execution_count": null,
   "id": "0eae5591",
   "metadata": {},
   "outputs": [],
   "source": [
    "w_lox"
   ]
  },
  {
   "cell_type": "code",
   "execution_count": null,
   "id": "e6808211",
   "metadata": {},
   "outputs": [],
   "source": [
    "fig, ax = plt.subplots(2,2, figsize=(8,8))\n",
    "wres = wobs['base'].values-obsdat.loc[w_lox.index].obsval\n",
    "d=ax[0,0].scatter(w_lox.col,w_lox.row, \n",
    "                  c=wres, \n",
    "                  s=wobs['base'].values*8,\n",
    "                 cmap='bwr', vmin =-np.max(np.abs(wres)),\n",
    "                 vmax=np.max(np.abs(wres)))\n",
    "ax[0,0].invert_yaxis()\n",
    "ax[0,0].set_title('deep head residuals')\n",
    "plt.colorbar(d)\n",
    "d=ax[0,1].scatter(w_lox.col,w_lox.row, c=wobs.T.std(), s=wobs.T.std()*150,  cmap='magma')\n",
    "ax[0,1].set_title('deep head standard deviation')\n",
    "ax[0,1].invert_yaxis()\n",
    "plt.colorbar(d)\n",
    "\n",
    "ures = uobs['base'].values-obsdat.loc[u_lox.index].obsval\n",
    "d=ax[1,0].scatter(u_lox.col,u_lox.row, \n",
    "                  c=wres, \n",
    "                  s=wobs['base'].values*8,\n",
    "                 cmap='bwr', vmin =-np.max(np.abs(ures)),\n",
    "                 vmax=np.max(np.abs(ures)))\n",
    "ax[1,0].set_title('shallow head residuals')\n",
    "ax[1,0].invert_yaxis()\n",
    "plt.colorbar(d)\n",
    "\n",
    "d=ax[1,1].scatter(u_lox.col,u_lox.row, c=uobs.T.std(), s=uobs.T.std()*150, cmap='magma')\n",
    "ax[1,1].set_title('shallow head standard deviation')\n",
    "ax[1,1].invert_yaxis()\n",
    "\n",
    "plt.colorbar(d)\n",
    "for ax in ax.ravel():\n",
    "    ax.set_aspect('equal')"
   ]
  },
  {
   "cell_type": "code",
   "execution_count": null,
   "id": "e29285d7",
   "metadata": {},
   "outputs": [],
   "source": []
  },
  {
   "cell_type": "code",
   "execution_count": null,
   "id": "65909e54",
   "metadata": {},
   "outputs": [],
   "source": []
  }
 ],
 "metadata": {
  "kernelspec": {
   "display_name": "Python 3 (ipykernel)",
   "language": "python",
   "name": "python3"
  },
  "language_info": {
   "codemirror_mode": {
    "name": "ipython",
    "version": 3
   },
   "file_extension": ".py",
   "mimetype": "text/x-python",
   "name": "python",
   "nbconvert_exporter": "python",
   "pygments_lexer": "ipython3",
   "version": "3.9.15"
  }
 },
 "nbformat": 4,
 "nbformat_minor": 5
}
