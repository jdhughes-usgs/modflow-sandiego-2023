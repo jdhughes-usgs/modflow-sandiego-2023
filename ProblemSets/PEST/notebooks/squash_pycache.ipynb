{
 "cells": [
  {
   "cell_type": "code",
   "execution_count": 1,
   "id": "93c6ff80",
   "metadata": {},
   "outputs": [],
   "source": [
    "import os, shutil, glob"
   ]
  },
  {
   "cell_type": "code",
   "execution_count": 2,
   "id": "c6a9c4ac",
   "metadata": {},
   "outputs": [],
   "source": [
    "cdir = './pyemu'"
   ]
  },
  {
   "cell_type": "code",
   "execution_count": 3,
   "id": "eb345cbb",
   "metadata": {},
   "outputs": [
    {
     "name": "stdout",
     "output_type": "stream",
     "text": [
      "./pyemu/mat/__pycache__\n",
      "./pyemu/plot/__pycache__\n",
      "./pyemu/utils/__pycache__\n",
      "./pyemu/prototypes/__pycache__\n",
      "./pyemu/pst/__pycache__\n",
      "./pyemu/mat\n",
      "./pyemu/plot\n",
      "./pyemu/utils\n",
      "./pyemu/__pycache__\n",
      "./pyemu/prototypes\n",
      "./pyemu/pst\n"
     ]
    }
   ],
   "source": [
    "for root, dirs, files in os.walk(cdir, topdown=False):\n",
    "    for name in dirs:\n",
    "        print(os.path.join(root, name))"
   ]
  },
  {
   "cell_type": "code",
   "execution_count": 4,
   "id": "23d748d7",
   "metadata": {},
   "outputs": [],
   "source": [
    "for root, dirs, files in os.walk(cdir, topdown=False):\n",
    "    for name in dirs:\n",
    "#        print(os.path.join(root, name))\n",
    "        if '__pycache__' in name:\n",
    "            shutil.rmtree(os.path.join(root,name))"
   ]
  },
  {
   "cell_type": "code",
   "execution_count": 5,
   "id": "c07c228f",
   "metadata": {},
   "outputs": [
    {
     "name": "stdout",
     "output_type": "stream",
     "text": [
      "./pyemu/mat\n",
      "./pyemu/plot\n",
      "./pyemu/utils\n",
      "./pyemu/prototypes\n",
      "./pyemu/pst\n"
     ]
    }
   ],
   "source": [
    "for root, dirs, files in os.walk(cdir, topdown=False):\n",
    "    for name in dirs:\n",
    "        print(os.path.join(root, name))"
   ]
  },
  {
   "cell_type": "code",
   "execution_count": null,
   "id": "b18eadbd",
   "metadata": {},
   "outputs": [],
   "source": []
  },
  {
   "cell_type": "code",
   "execution_count": null,
   "id": "cd566d0f",
   "metadata": {},
   "outputs": [],
   "source": []
  }
 ],
 "metadata": {
  "kernelspec": {
   "display_name": "Python 3 (ipykernel)",
   "language": "python",
   "name": "python3"
  },
  "language_info": {
   "codemirror_mode": {
    "name": "ipython",
    "version": 3
   },
   "file_extension": ".py",
   "mimetype": "text/x-python",
   "name": "python",
   "nbconvert_exporter": "python",
   "pygments_lexer": "ipython3",
   "version": "3.9.15"
  }
 },
 "nbformat": 4,
 "nbformat_minor": 5
}
