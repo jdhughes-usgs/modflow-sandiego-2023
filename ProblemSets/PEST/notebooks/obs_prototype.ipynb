{
 "cells": [
  {
   "cell_type": "code",
   "execution_count": null,
   "id": "c963d01a",
   "metadata": {},
   "outputs": [],
   "source": [
    "import pandas as pd\n",
    "from pathlib import Path"
   ]
  },
  {
   "cell_type": "code",
   "execution_count": null,
   "id": "3d63aac8",
   "metadata": {},
   "outputs": [],
   "source": [
    "rundir = Path('../pest_obs_prototype/')"
   ]
  },
  {
   "cell_type": "code",
   "execution_count": null,
   "id": "59cb2fd7",
   "metadata": {},
   "outputs": [],
   "source": [
    "list(rundir.glob('*.csv'))"
   ]
  },
  {
   "cell_type": "code",
   "execution_count": null,
   "id": "f96af688",
   "metadata": {},
   "outputs": [],
   "source": [
    "outfiles = [Path('../pest_obs_prototype/riv.csv'),\n",
    " Path('../pest_obs_prototype/at.wt.csv'),\n",
    " Path('../pest_obs_prototype/chd.csv'),\n",
    " Path('../pest_obs_prototype/at.csv')]\n",
    "obs = pd.concat([pd.read_csv(i).T.iloc[1:] for i in outfiles])"
   ]
  },
  {
   "cell_type": "code",
   "execution_count": null,
   "id": "c133bacf",
   "metadata": {},
   "outputs": [],
   "source": [
    "#obs.columns=['obsname']\n",
    "obs"
   ]
  },
  {
   "cell_type": "code",
   "execution_count": null,
   "id": "4e95f782",
   "metadata": {},
   "outputs": [],
   "source": [
    "for i in range(17):\n",
    "    obs.loc[f'd_U{i+1:02d}_W{i+1:02d}', 'obsname'] = obs.loc[f'U{i+1:02d}'].obsname - obs.loc[f'W{i+1:02d}'].obsname"
   ]
  },
  {
   "cell_type": "code",
   "execution_count": null,
   "id": "8f998ca2",
   "metadata": {},
   "outputs": [],
   "source": [
    "obs"
   ]
  },
  {
   "cell_type": "code",
   "execution_count": null,
   "id": "96c9b0cc",
   "metadata": {},
   "outputs": [],
   "source": [
    "obs.to_csv(\"allobs.dat\", sep = \" \")"
   ]
  },
  {
   "cell_type": "code",
   "execution_count": null,
   "id": "e6fccf74",
   "metadata": {},
   "outputs": [],
   "source": [
    "obsnames = [i.lower() for i in obs.index.tolist()]"
   ]
  },
  {
   "cell_type": "code",
   "execution_count": null,
   "id": "f53b07fd",
   "metadata": {},
   "outputs": [],
   "source": [
    "obsnames"
   ]
  },
  {
   "cell_type": "code",
   "execution_count": null,
   "id": "91e3e34a",
   "metadata": {},
   "outputs": [],
   "source": [
    "with open('../pest_background_files/allobs.dat.ins', 'w') as ofp:\n",
    "    ofp.write('pif ~\\n')\n",
    "    obs0 = obsnames.pop(0)\n",
    "    ofp.write(f'l2 w !{obs0}!\\n')\n",
    "    [ofp.write(f'l1 w !{i}!\\n') for i in obsnames]"
   ]
  },
  {
   "cell_type": "code",
   "execution_count": null,
   "id": "787b5d20",
   "metadata": {},
   "outputs": [],
   "source": []
  }
 ],
 "metadata": {
  "kernelspec": {
   "display_name": "Python 3 (ipykernel)",
   "language": "python",
   "name": "python3"
  },
  "language_info": {
   "codemirror_mode": {
    "name": "ipython",
    "version": 3
   },
   "file_extension": ".py",
   "mimetype": "text/x-python",
   "name": "python",
   "nbconvert_exporter": "python",
   "pygments_lexer": "ipython3",
   "version": "3.9.15"
  }
 },
 "nbformat": 4,
 "nbformat_minor": 5
}
