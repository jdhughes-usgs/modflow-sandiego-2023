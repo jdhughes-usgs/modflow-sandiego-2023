{
 "cells": [
  {
   "cell_type": "code",
   "execution_count": null,
   "id": "ce72259c",
   "metadata": {},
   "outputs": [],
   "source": [
    "import flopy\n",
    "from pathlib import Path\n",
    "import flopy.utils as fu\n",
    "import os, shutil\n",
    "import numpy as np\n",
    "import matplotlib.pyplot as plt\n",
    "import pandas as pd\n",
    "import platform"
   ]
  },
  {
   "cell_type": "markdown",
   "id": "5d48e429",
   "metadata": {},
   "source": [
    "### clean up from a previous run"
   ]
  },
  {
   "cell_type": "code",
   "execution_count": null,
   "id": "46439501",
   "metadata": {},
   "outputs": [],
   "source": [
    "cleanup = True\n",
    "if cleanup is True:\n",
    "    rundirs = Path('.')\n",
    "    olddirs = [i for i in rundirs.glob('ps*') if (os.path.isdir(i)) & ('fgdata' not in i.name)]\n",
    "    [shutil.rmtree(i) for i in olddirs];"
   ]
  },
  {
   "cell_type": "markdown",
   "id": "c9dea562",
   "metadata": {},
   "source": [
    "# Look at the initial results from PS1"
   ]
  },
  {
   "cell_type": "code",
   "execution_count": null,
   "id": "af3c0b8e",
   "metadata": {},
   "outputs": [],
   "source": [
    "# first load in the initial model"
   ]
  },
  {
   "cell_type": "code",
   "execution_count": null,
   "id": "657beb86",
   "metadata": {},
   "outputs": [],
   "source": [
    "if 'window' in platform.platform().lower():\n",
    "    mfexe = os.path.abspath('./bin/mf6.exe')\n",
    "else:\n",
    "    mfexe = os.path.abspath('./bin/mf6')"
   ]
  },
  {
   "cell_type": "code",
   "execution_count": null,
   "id": "382f733a",
   "metadata": {},
   "outputs": [],
   "source": [
    "sim = flopy.mf6.MFSimulation.load(sim_ws = './initial/', exe_name=mfexe)"
   ]
  },
  {
   "cell_type": "markdown",
   "id": "406a2714",
   "metadata": {},
   "source": [
    "### reset the top to 400 feet"
   ]
  },
  {
   "cell_type": "code",
   "execution_count": null,
   "id": "4d14c716",
   "metadata": {},
   "outputs": [],
   "source": [
    "m = sim.get_model()\n",
    "m.dis.top = 400"
   ]
  },
  {
   "cell_type": "code",
   "execution_count": null,
   "id": "275f4a48",
   "metadata": {},
   "outputs": [],
   "source": [
    "# run this as-is and look at the head file"
   ]
  },
  {
   "cell_type": "code",
   "execution_count": null,
   "id": "147b86fd",
   "metadata": {},
   "outputs": [],
   "source": [
    "sim.set_sim_path('./ps1')\n"
   ]
  },
  {
   "cell_type": "code",
   "execution_count": null,
   "id": "785f270a",
   "metadata": {},
   "outputs": [],
   "source": [
    "sim.write_simulation()"
   ]
  },
  {
   "cell_type": "code",
   "execution_count": null,
   "id": "66432571",
   "metadata": {},
   "outputs": [],
   "source": [
    "sim.run_simulation()"
   ]
  },
  {
   "cell_type": "code",
   "execution_count": null,
   "id": "29c57246",
   "metadata": {},
   "outputs": [],
   "source": [
    "m1head = m.output.head().get_data()"
   ]
  },
  {
   "cell_type": "code",
   "execution_count": null,
   "id": "90dc776c",
   "metadata": {},
   "outputs": [],
   "source": [
    "fig, ax = plt.subplots(3,1)\n",
    "for i in range(m1head.shape[0]):\n",
    "    d=ax[i].imshow(m1head[i])\n",
    "    plt.colorbar(d)\n",
    "    plt.tight_layout()"
   ]
  },
  {
   "cell_type": "markdown",
   "id": "4dc8c770",
   "metadata": {},
   "source": [
    "# Part A: The Recharge Package"
   ]
  },
  {
   "cell_type": "markdown",
   "id": "fe8711e2",
   "metadata": {},
   "source": [
    "### add rechage to the model and remove the canal (constant head on the left boundary)"
   ]
  },
  {
   "cell_type": "code",
   "execution_count": null,
   "id": "1dc7a809",
   "metadata": {},
   "outputs": [],
   "source": [
    "sim.set_sim_path('ps2a')\n",
    "m = sim.get_model()"
   ]
  },
  {
   "cell_type": "code",
   "execution_count": null,
   "id": "848e1538",
   "metadata": {},
   "outputs": [],
   "source": [
    "r = flopy.mf6.ModflowGwfrcha(m,recharge=0.005)"
   ]
  },
  {
   "cell_type": "code",
   "execution_count": null,
   "id": "198d8f41",
   "metadata": {},
   "outputs": [],
   "source": [
    "chd_spd = pd.DataFrame.from_records(m.chd.stress_period_data.array[0])\n",
    "chd_spd"
   ]
  },
  {
   "cell_type": "code",
   "execution_count": null,
   "id": "cd2d95c8",
   "metadata": {},
   "outputs": [],
   "source": [
    "# drop the cells with chd == 330\n",
    "chd_spd = chd_spd.loc[chd_spd['head'] != 330]"
   ]
  },
  {
   "cell_type": "code",
   "execution_count": null,
   "id": "ab43b70b",
   "metadata": {},
   "outputs": [],
   "source": [
    "chd_spd"
   ]
  },
  {
   "cell_type": "code",
   "execution_count": null,
   "id": "2b649552",
   "metadata": {},
   "outputs": [],
   "source": [
    "chdtype = m.chd.stress_period_data.dtype\n",
    "chd_spd.to_records(index=None)"
   ]
  },
  {
   "cell_type": "code",
   "execution_count": null,
   "id": "1bd42e3f",
   "metadata": {},
   "outputs": [],
   "source": [
    "m.remove_package(m.chd)\n",
    "chd = flopy.mf6.ModflowGwfchd(m, stress_period_data=chd_spd.to_records(index=None))"
   ]
  },
  {
   "cell_type": "code",
   "execution_count": null,
   "id": "3246a3e8",
   "metadata": {},
   "outputs": [],
   "source": [
    "m.get_package_list()"
   ]
  },
  {
   "cell_type": "code",
   "execution_count": null,
   "id": "4309154b",
   "metadata": {},
   "outputs": [],
   "source": [
    "sim.write_simulation()\n",
    "sim.run_simulation()"
   ]
  },
  {
   "cell_type": "markdown",
   "id": "b2c75f24",
   "metadata": {},
   "source": [
    "### exercise 1 and 2: look at the budgets"
   ]
  },
  {
   "cell_type": "code",
   "execution_count": null,
   "id": "fc39b310",
   "metadata": {},
   "outputs": [],
   "source": [
    "# recharge that should be applied\n",
    "np.sum(m.dis.delr.array)*np.sum(m.dis.delc.array)*0.005"
   ]
  },
  {
   "cell_type": "code",
   "execution_count": null,
   "id": "5a25eae1",
   "metadata": {},
   "outputs": [],
   "source": [
    "# read in the budget from the model --- why different??\n",
    "m2a_bud = m.output.list().get_dataframes()[0]\n",
    "m2a_bud"
   ]
  },
  {
   "cell_type": "markdown",
   "id": "e7d8c774",
   "metadata": {},
   "source": [
    "### Compare the head distributions between ps1 and ps2a"
   ]
  },
  {
   "cell_type": "code",
   "execution_count": null,
   "id": "ad48e0ca",
   "metadata": {},
   "outputs": [],
   "source": [
    "m2ahead = m.output.head().get_data()"
   ]
  },
  {
   "cell_type": "code",
   "execution_count": null,
   "id": "8fd47b23",
   "metadata": {},
   "outputs": [],
   "source": [
    "fig, ax = plt.subplots(3,3)\n",
    "for i in range(m1head.shape[0]):\n",
    "    d=ax[i,0].imshow(m1head[i])\n",
    "    plt.colorbar(d)\n",
    "    d=ax[i,1].imshow(m2ahead[i])\n",
    "    plt.colorbar(d)\n",
    "    d=ax[i,2].imshow(m2ahead[i]-m1head[i])\n",
    "    plt.colorbar(d)\n",
    "ax[0,0].set_title('PS1')\n",
    "ax[0,1].set_title('PS2')\n",
    "ax[0,2].set_title('PS2-PS1')\n",
    "\n",
    "plt.tight_layout()"
   ]
  },
  {
   "cell_type": "markdown",
   "id": "7650ae4c",
   "metadata": {},
   "source": [
    "### Exercise 4: Between which columns does flow switch from down to up across layer 1?"
   ]
  },
  {
   "cell_type": "code",
   "execution_count": null,
   "id": "7a4c59d6",
   "metadata": {},
   "outputs": [],
   "source": [
    "fig=plt.figure(figsize=(8,8))\n",
    "dd = m2ahead[1,:,:]-m2ahead[0,:,:]\n",
    "for i,j in enumerate(dd[0,:]):\n",
    "    print(f'col: {i+1} head_diff: {j}')\n",
    "#dd[dd<=0]=np.nan\n",
    "plt.imshow(dd)\n",
    "plt.colorbar(shrink=.8)"
   ]
  },
  {
   "cell_type": "markdown",
   "id": "9ee0d0c6",
   "metadata": {},
   "source": [
    "### exercise 5: calculate the volumetric flow rates between columns identified above\n",
    "### note: the difference is between columns 13 and 14, but `flopy` as a python code uses zero-based indexing, so use 12 and 13 as the columns"
   ]
  },
  {
   "cell_type": "code",
   "execution_count": null,
   "id": "ab950b33",
   "metadata": {},
   "outputs": [],
   "source": [
    "table = pd.DataFrame(data={'layer':[0,1,2],'hleft':m2ahead[:,0,12], 'hright':m2ahead[:,0,13]})\n",
    "table.set_index('layer',drop=True, inplace=True)\n",
    "table"
   ]
  },
  {
   "cell_type": "markdown",
   "id": "2e0c5afb",
   "metadata": {},
   "source": [
    "### Remember:\n",
    "### $Q=\\left[-\\frac{KA}{L}\\right]\\Delta h$\n",
    "### and - will want to multiply by the number of rows (21) as this is a parallel flow model"
   ]
  },
  {
   "cell_type": "code",
   "execution_count": null,
   "id": "8ae0caca",
   "metadata": {},
   "outputs": [],
   "source": [
    "table['delh'] = table.hright-table.hleft\n",
    "table['b'] = [np.mean((table.loc[0].hright,table.loc[0].hleft))-\n",
    "              m.dis.botm.array[0,0,0], 20, 200]\n",
    "table['k'] = m.npf.k.array[:,0,12]\n",
    "table['Q'] = [np.round(i) for i in \n",
    "              -m.dis.delr.array[0] * table.k * table.b * table.delh *21 / m.dis.delc.array[0]]"
   ]
  },
  {
   "cell_type": "code",
   "execution_count": null,
   "id": "dab7f7f6",
   "metadata": {},
   "outputs": [],
   "source": [
    "table"
   ]
  },
  {
   "cell_type": "markdown",
   "id": "10534d32",
   "metadata": {},
   "source": [
    "### excercise 6: copy to PS2A1 and double K to see what happens"
   ]
  },
  {
   "cell_type": "code",
   "execution_count": null,
   "id": "9dfbcf0a",
   "metadata": {},
   "outputs": [],
   "source": [
    "shutil.copytree('./ps2a/', './ps2a1', dirs_exist_ok=True)"
   ]
  },
  {
   "cell_type": "code",
   "execution_count": null,
   "id": "d375492f",
   "metadata": {},
   "outputs": [],
   "source": [
    "sim = flopy.mf6.MFSimulation.load(sim_ws = './ps2a1/', exe_name=mfexe)"
   ]
  },
  {
   "cell_type": "code",
   "execution_count": null,
   "id": "cba06a17",
   "metadata": {},
   "outputs": [],
   "source": [
    "m = sim.get_model()"
   ]
  },
  {
   "cell_type": "code",
   "execution_count": null,
   "id": "cabba8aa",
   "metadata": {},
   "outputs": [],
   "source": [
    "# multiply both horizontal and vertical K by 2\n",
    "m.npf.k = m.npf.k.array*2\n",
    "m.npf.k33 = m.npf.k33.array*2"
   ]
  },
  {
   "cell_type": "code",
   "execution_count": null,
   "id": "03984d9c",
   "metadata": {},
   "outputs": [],
   "source": [
    "sim.write_simulation()\n",
    "sim.run_simulation()"
   ]
  },
  {
   "cell_type": "markdown",
   "id": "2d9c06b3",
   "metadata": {},
   "source": [
    "### read in the head output data"
   ]
  },
  {
   "cell_type": "code",
   "execution_count": null,
   "id": "f0a7f4d4",
   "metadata": {},
   "outputs": [],
   "source": [
    "m2a1head = m.output.head().get_data()"
   ]
  },
  {
   "cell_type": "code",
   "execution_count": null,
   "id": "4db4bdd6",
   "metadata": {},
   "outputs": [],
   "source": [
    "fig, ax = plt.subplots(3,2)\n",
    "for i in range(m1head.shape[0]):\n",
    "    d=ax[i,0].imshow(m2ahead[i])\n",
    "    plt.colorbar(d)\n",
    "    d=ax[i,1].imshow(m2a1head[i])\n",
    "    plt.colorbar(d)\n",
    "ax[0,0].set_title('PS2A')\n",
    "ax[0,1].set_title('PS2A1')\n",
    "\n",
    "plt.tight_layout()\n"
   ]
  },
  {
   "cell_type": "code",
   "execution_count": null,
   "id": "52aa5e8d",
   "metadata": {},
   "outputs": [],
   "source": [
    "fig, ax = plt.subplots(3,1)\n",
    "for i in range(m1head.shape[0]):\n",
    "    d=ax[i].plot(m2ahead[i,0,:], label='ps2a')\n",
    "    d=ax[i].plot(m2a1head[i,0,:], label='ps2a1')\n",
    "ax[0].legend()\n",
    "plt.suptitle('Looking at Gradients')\n",
    "plt.tight_layout()\n"
   ]
  },
  {
   "cell_type": "markdown",
   "id": "dfb57dbe",
   "metadata": {},
   "source": [
    "### read in the listing file budget information"
   ]
  },
  {
   "cell_type": "code",
   "execution_count": null,
   "id": "662da12b",
   "metadata": {},
   "outputs": [],
   "source": [
    "m2a1_bud = m.output.list().get_dataframes()[0]"
   ]
  },
  {
   "cell_type": "markdown",
   "id": "b6e64208",
   "metadata": {},
   "source": [
    "### note that the overall budgets are unchanged"
   ]
  },
  {
   "cell_type": "code",
   "execution_count": null,
   "id": "5b776371",
   "metadata": {},
   "outputs": [],
   "source": [
    "m2a1_bud"
   ]
  },
  {
   "cell_type": "code",
   "execution_count": null,
   "id": "56901ff1",
   "metadata": {},
   "outputs": [],
   "source": [
    "m2a1_bud"
   ]
  },
  {
   "cell_type": "markdown",
   "id": "4276c1eb",
   "metadata": {},
   "source": [
    "### Exercise 7: Set up some budgets for the zones indicated"
   ]
  },
  {
   "attachments": {
    "image.png": {
     "image/png": "[encoded data removed]"
    }
   },
   "cell_type": "markdown",
   "id": "6d0f6edc",
   "metadata": {},
   "source": [
    "![image.png](attachment:image.png)"
   ]
  },
  {
   "cell_type": "code",
   "execution_count": null,
   "id": "2852c9cd",
   "metadata": {},
   "outputs": [],
   "source": [
    "r = m.rch.recharge[0][0]\n",
    "r"
   ]
  },
  {
   "cell_type": "code",
   "execution_count": null,
   "id": "c11acf83",
   "metadata": {},
   "outputs": [],
   "source": [
    "# these are just recharge multiplied by area\n",
    "Zone1_in = r*21*13*500*500\n",
    "Zone2_in = r*21*6*500*500"
   ]
  },
  {
   "cell_type": "code",
   "execution_count": null,
   "id": "236be260",
   "metadata": {},
   "outputs": [],
   "source": [
    "# we already calculated the lateral exchanges Zone 1->2, 3->4, and 5->6 in the table above\n",
    "table.Q"
   ]
  },
  {
   "cell_type": "markdown",
   "id": "123e9381",
   "metadata": {},
   "source": [
    "#### use these known amounts to fill in the diagram"
   ]
  },
  {
   "cell_type": "code",
   "execution_count": null,
   "id": "b83d399a",
   "metadata": {},
   "outputs": [],
   "source": [
    "Zone_1_3 = Zone1_in-table.loc[0].Q\n",
    "Zone_1_3"
   ]
  },
  {
   "cell_type": "code",
   "execution_count": null,
   "id": "a46a196b",
   "metadata": {},
   "outputs": [],
   "source": [
    "Zone_3_5 = Zone_1_3-table.loc[1].Q\n",
    "Zone_3_5"
   ]
  },
  {
   "cell_type": "code",
   "execution_count": null,
   "id": "d079e4e6",
   "metadata": {},
   "outputs": [],
   "source": [
    "Zone_6_4 = table.loc[2].Q\n",
    "Zone_6_4"
   ]
  },
  {
   "cell_type": "code",
   "execution_count": null,
   "id": "23c35920",
   "metadata": {},
   "outputs": [],
   "source": [
    "Zone_4_2 = Zone_6_4 + table.loc[1].Q\n",
    "Zone_4_2"
   ]
  },
  {
   "cell_type": "code",
   "execution_count": null,
   "id": "4e025d4b",
   "metadata": {},
   "outputs": [],
   "source": [
    "Into_river = Zone2_in + Zone_4_2 + table.loc[0].Q\n",
    "Into_river"
   ]
  },
  {
   "cell_type": "markdown",
   "id": "7e7c7225",
   "metadata": {},
   "source": [
    "### exercise 8: figure out width of source area supplying R into layer 3"
   ]
  },
  {
   "cell_type": "code",
   "execution_count": null,
   "id": "696f5778",
   "metadata": {},
   "outputs": [],
   "source": [
    "# R into layer 3 is Zone_3_5\n",
    "Zone_3_5"
   ]
  },
  {
   "cell_type": "code",
   "execution_count": null,
   "id": "59ba322d",
   "metadata": {},
   "outputs": [],
   "source": [
    "#width x length_of_model * R = Zone_3_5\n",
    "# width x 10,500 x 0.005 = Zone_3_5\n",
    "width = Zone_3_5/(10500*.005)\n",
    "width"
   ]
  },
  {
   "cell_type": "markdown",
   "id": "339e89c8",
   "metadata": {},
   "source": [
    "# Part B: River Package"
   ]
  },
  {
   "cell_type": "code",
   "execution_count": null,
   "id": "fb410d77",
   "metadata": {},
   "outputs": [],
   "source": [
    "if os.path.exists('./ps2b'):\n",
    "    shutil.rmtree('./ps2b')\n",
    "shutil.copytree('./ps2a/', './ps2b', dirs_exist_ok=True)"
   ]
  },
  {
   "cell_type": "code",
   "execution_count": null,
   "id": "cfd15401",
   "metadata": {},
   "outputs": [],
   "source": [
    "# read in the model\n",
    "sim = flopy.mf6.MFSimulation.load(sim_ws = './ps2b/', exe_name=mfexe)\n",
    "m = sim.get_model()\n",
    "m.remove_package(m.chd)"
   ]
  },
  {
   "cell_type": "code",
   "execution_count": null,
   "id": "588686ba",
   "metadata": {},
   "outputs": [],
   "source": [
    "# set the cells for which rivers will exist\n",
    "rivcells = [(0,i,19) for i in range(m.dis.nrow.array)]\n",
    "rivcells"
   ]
  },
  {
   "cell_type": "code",
   "execution_count": null,
   "id": "5373f49a",
   "metadata": {},
   "outputs": [],
   "source": [
    "20*500*10"
   ]
  },
  {
   "cell_type": "code",
   "execution_count": null,
   "id": "73aeb716",
   "metadata": {},
   "outputs": [],
   "source": [
    "# now make the stress period data for the river\n",
    "riv_spd = pd.DataFrame(data={'cellid':rivcells,'stage':320, 'cond':20*500*10, 'rbot':317})"
   ]
  },
  {
   "cell_type": "code",
   "execution_count": null,
   "id": "310be99b",
   "metadata": {},
   "outputs": [],
   "source": [
    "riv_spd"
   ]
  },
  {
   "cell_type": "code",
   "execution_count": null,
   "id": "b04efe0e",
   "metadata": {},
   "outputs": [],
   "source": [
    "riv = flopy.mf6.ModflowGwfriv(m, save_flows=True, stress_period_data=riv_spd.to_records(index=None))"
   ]
  },
  {
   "cell_type": "code",
   "execution_count": null,
   "id": "a15ede52",
   "metadata": {},
   "outputs": [],
   "source": [
    "sim.write_simulation()\n",
    "sim.run_simulation()"
   ]
  },
  {
   "cell_type": "code",
   "execution_count": null,
   "id": "9e097363",
   "metadata": {},
   "outputs": [],
   "source": [
    "m2bhead = m.output.head().get_data()"
   ]
  },
  {
   "cell_type": "code",
   "execution_count": null,
   "id": "faf0b471",
   "metadata": {},
   "outputs": [],
   "source": [
    "fig, ax = plt.subplots(3,2)\n",
    "for i in range(m1head.shape[0]):\n",
    "    d=ax[i,0].imshow(m2ahead[i])\n",
    "    plt.colorbar(d)\n",
    "    d=ax[i,1].imshow(m2bhead[i])\n",
    "    plt.colorbar(d)\n",
    "ax[0,0].set_title('PS2A')\n",
    "ax[0,1].set_title('PS2B')\n",
    "plt.tight_layout()"
   ]
  },
  {
   "cell_type": "code",
   "execution_count": null,
   "id": "c42f4598",
   "metadata": {},
   "outputs": [],
   "source": [
    "m2b_bud = m.output.list().get_dataframes()[0]"
   ]
  },
  {
   "cell_type": "code",
   "execution_count": null,
   "id": "7e244ff5",
   "metadata": {},
   "outputs": [],
   "source": [
    "m2a1_bud"
   ]
  },
  {
   "cell_type": "code",
   "execution_count": null,
   "id": "5f3d204b",
   "metadata": {},
   "outputs": [],
   "source": [
    "m2b_bud"
   ]
  },
  {
   "cell_type": "markdown",
   "id": "1b97e5bc",
   "metadata": {},
   "source": [
    "### excercise 9: \n",
    "### identify all the inflow and outflow terms for cell 1,1,20 (remember - use zero-based indices so 0,0,19). Compare the result to the flux to the River. close?"
   ]
  },
  {
   "cell_type": "code",
   "execution_count": null,
   "id": "97426694",
   "metadata": {},
   "outputs": [],
   "source": [
    "# Qriv = (Qrch + Qleft + Qbot)"
   ]
  },
  {
   "cell_type": "code",
   "execution_count": null,
   "id": "a4d35780",
   "metadata": {},
   "outputs": [],
   "source": [
    "k=50"
   ]
  },
  {
   "cell_type": "code",
   "execution_count": null,
   "id": "cffa8e60",
   "metadata": {},
   "outputs": [],
   "source": [
    "Q_rch = 500 * 500 * 0.005 #(dx x dy x R)\n",
    "Q_rch"
   ]
  },
  {
   "cell_type": "markdown",
   "id": "bdf49a43",
   "metadata": {},
   "source": [
    "### flow from the left cell"
   ]
  },
  {
   "cell_type": "code",
   "execution_count": null,
   "id": "028d605d",
   "metadata": {},
   "outputs": [],
   "source": [
    "k=50\n",
    "delh_left = m2bhead[0,0,19]-m2bhead[0,0,18]\n",
    "b = np.mean((m2bhead[0,0,19],m2bhead[0,0,18]))-220\n",
    "\n",
    "Q_left = -k * b * 500  * delh_left / 500\n",
    "Q_left"
   ]
  },
  {
   "cell_type": "markdown",
   "id": "049da609",
   "metadata": {},
   "source": [
    "### flow from the \"south\" cell"
   ]
  },
  {
   "cell_type": "code",
   "execution_count": null,
   "id": "a65bb52c",
   "metadata": {},
   "outputs": [],
   "source": [
    "k=50\n",
    "delh_south = m2bhead[0,0,19]-m2bhead[0,1,19]\n",
    "b = np.mean((m2bhead[0,0,19],m2bhead[0,1,19]))-220\n",
    "\n",
    "Q_south = -k * b * 500  * delh_south / 500\n",
    "Q_south"
   ]
  },
  {
   "cell_type": "markdown",
   "id": "860c5282",
   "metadata": {},
   "source": [
    "### Flow from the bottom cell:  \n",
    "### tricky here, but best to calculate the half-cell conductances. Why? Because need to basically account for partial length when calculating an \"average\" K"
   ]
  },
  {
   "cell_type": "code",
   "execution_count": null,
   "id": "c385df63",
   "metadata": {},
   "outputs": [],
   "source": [
    "delh_bot = m2bhead[0,0,19]-m2bhead[1,0,19]\n",
    "\n",
    "C1 = 10 * 500 * 500 / ((m.dis.top.array[0,19]-m.dis.botm.array[0,0,19])/2)\n",
    "C2 = 0.01 * 500 * 500 / 10\n",
    "Q_bot = -C1*C2/(C1+C2) * delh_bot \n",
    "Q_bot"
   ]
  },
  {
   "cell_type": "code",
   "execution_count": null,
   "id": "a0698885",
   "metadata": {},
   "outputs": [],
   "source": [
    "Q_riv = 525000 / 21\n",
    "Q_riv"
   ]
  },
  {
   "cell_type": "code",
   "execution_count": null,
   "id": "27f7d225",
   "metadata": {},
   "outputs": [],
   "source": [
    "Q_bot + Q_rch + Q_left + Q_south"
   ]
  },
  {
   "cell_type": "markdown",
   "id": "775e7322",
   "metadata": {},
   "source": [
    "# Part C: Drain and General Head Boundaries"
   ]
  },
  {
   "cell_type": "code",
   "execution_count": null,
   "id": "d4505005",
   "metadata": {},
   "outputs": [],
   "source": [
    "if os.path.exists('./ps2c/'):\n",
    "    shutil.rmtree('./ps2c')\n",
    "shutil.copytree('./ps2b/', './ps2c', dirs_exist_ok=True)"
   ]
  },
  {
   "cell_type": "code",
   "execution_count": null,
   "id": "4f295d45",
   "metadata": {},
   "outputs": [],
   "source": [
    "# read in the model\n",
    "sim = flopy.mf6.MFSimulation.load(sim_ws = './ps2c/', exe_name=mfexe)\n",
    "m = sim.get_model()"
   ]
  },
  {
   "cell_type": "markdown",
   "id": "e358d55a",
   "metadata": {},
   "source": [
    "### add the drains"
   ]
  },
  {
   "cell_type": "code",
   "execution_count": null,
   "id": "f2796f0f",
   "metadata": {},
   "outputs": [],
   "source": [
    "drain_cells = [(0,14,i) for i in range(9,20)]\n",
    "drn_spd = pd.DataFrame(data={'celld':drain_cells, 'elev':322.5, 'cond':1e5})"
   ]
  },
  {
   "cell_type": "code",
   "execution_count": null,
   "id": "a9f8efdb",
   "metadata": {},
   "outputs": [],
   "source": [
    "drn = flopy.mf6.ModflowGwfdrn(m, print_flows=True, stress_period_data=drn_spd.to_records(index=None))"
   ]
  },
  {
   "cell_type": "code",
   "execution_count": null,
   "id": "d522517b",
   "metadata": {},
   "outputs": [],
   "source": [
    "sim.write_simulation()\n",
    "sim.run_simulation()"
   ]
  },
  {
   "cell_type": "code",
   "execution_count": null,
   "id": "308de307",
   "metadata": {},
   "outputs": [],
   "source": [
    "m2chead = m.output.head().get_data()\n",
    "fig, ax = plt.subplots(3,2)\n",
    "for i in range(m1head.shape[0]):\n",
    "    d=ax[i,0].imshow(m2bhead[i])\n",
    "    plt.colorbar(d)\n",
    "    d=ax[i,1].imshow(m2chead[i])\n",
    "    plt.colorbar(d)\n"
   ]
  },
  {
   "cell_type": "markdown",
   "id": "74410f72",
   "metadata": {},
   "source": [
    "### Exercise 10: check out drain discharge differences between 1,15,18 and 1,15,19"
   ]
  },
  {
   "cell_type": "code",
   "execution_count": null,
   "id": "8619379a",
   "metadata": {},
   "outputs": [],
   "source": [
    "lst = open('./ps2c/ps2.lst', 'r').readlines()\n",
    "strtline = [lst.index(i) for i in lst if 'DRN PACKAGE (DRN_0) FLOW RATES ' in i][0]"
   ]
  },
  {
   "cell_type": "code",
   "execution_count": null,
   "id": "673b071a",
   "metadata": {},
   "outputs": [],
   "source": [
    "[print(i.strip()) for i in lst[strtline:strtline+16]];"
   ]
  },
  {
   "cell_type": "code",
   "execution_count": null,
   "id": "75fe97c7",
   "metadata": {},
   "outputs": [],
   "source": [
    "# heads go below the drain so no flow into the drain at col. 18\n",
    "m2chead[0,14,:]-322.5"
   ]
  },
  {
   "cell_type": "code",
   "execution_count": null,
   "id": "7e295ea5",
   "metadata": {},
   "outputs": [],
   "source": [
    "# we are going to need this a little later\n",
    "m2c_bud = m.output.list().get_dataframes()[0]"
   ]
  },
  {
   "cell_type": "markdown",
   "id": "949295da",
   "metadata": {},
   "source": [
    "### Exercise 11: copy to PS2C1 and replace DRN with GHB using the same information"
   ]
  },
  {
   "cell_type": "code",
   "execution_count": null,
   "id": "f258eda3",
   "metadata": {},
   "outputs": [],
   "source": [
    "shutil.copytree('./ps2c/', './ps2c1', dirs_exist_ok=True)"
   ]
  },
  {
   "cell_type": "code",
   "execution_count": null,
   "id": "e95c110f",
   "metadata": {},
   "outputs": [],
   "source": [
    "# read in the model\n",
    "sim = flopy.mf6.MFSimulation.load(sim_ws = './ps2c1/', exe_name=mfexe)\n",
    "sim.set_sim_path('ps2c1')\n",
    "m = sim.get_model()\n",
    "m.remove_package(m.drn)"
   ]
  },
  {
   "cell_type": "code",
   "execution_count": null,
   "id": "4f6eacbf",
   "metadata": {},
   "outputs": [],
   "source": [
    "m.get_package_list()"
   ]
  },
  {
   "cell_type": "code",
   "execution_count": null,
   "id": "ac026f2f",
   "metadata": {},
   "outputs": [],
   "source": [
    "ghb = flopy.mf6.ModflowGwfghb(m, stress_period_data=drn_spd.to_records(index=None), print_flows=True)"
   ]
  },
  {
   "cell_type": "code",
   "execution_count": null,
   "id": "d94c7590",
   "metadata": {},
   "outputs": [],
   "source": [
    "sim.write_simulation()\n",
    "sim.run_simulation()"
   ]
  },
  {
   "cell_type": "code",
   "execution_count": null,
   "id": "72bf19f4",
   "metadata": {},
   "outputs": [],
   "source": [
    "m2c1head = m.output.head().get_data()\n",
    "fig, ax = plt.subplots(3,2)\n",
    "for i in range(m1head.shape[0]):\n",
    "    d=ax[i,0].imshow(m2chead[i])\n",
    "    plt.colorbar(d)\n",
    "    d=ax[i,1].imshow(m2c1head[i])\n",
    "    plt.colorbar(d)\n",
    "ax[0,0].set_title('PS2C')\n",
    "ax[0,1].set_title('PS2C1')\n",
    "plt.tight_layout()"
   ]
  },
  {
   "cell_type": "code",
   "execution_count": null,
   "id": "f4aa0153",
   "metadata": {},
   "outputs": [],
   "source": [
    "lst = open('./ps2c1/ps2.lst', 'r').readlines()\n",
    "strtline = [lst.index(i) for i in lst if 'GHB PACKAGE (GHB_0) FLOW RATES ' in i][0]"
   ]
  },
  {
   "cell_type": "markdown",
   "id": "bfdaa4e4",
   "metadata": {},
   "source": [
    "### So how does GHB flow rate change relative to the DRN version?"
   ]
  },
  {
   "cell_type": "code",
   "execution_count": null,
   "id": "43d3d7c6",
   "metadata": {},
   "outputs": [],
   "source": [
    "[print(i.strip()) for i in lst[strtline:strtline+16]];"
   ]
  },
  {
   "cell_type": "code",
   "execution_count": null,
   "id": "ce0f3948",
   "metadata": {},
   "outputs": [],
   "source": [
    "lst = open('./ps2c/ps2.lst', 'r').readlines()\n",
    "strtline = [lst.index(i) for i in lst if 'DRN PACKAGE (DRN_0) FLOW RATES ' in i][0]\n",
    "[print(i.strip()) for i in lst[strtline:strtline+16]];"
   ]
  },
  {
   "cell_type": "markdown",
   "id": "d3668812",
   "metadata": {},
   "source": [
    "# Part D: Well Package"
   ]
  },
  {
   "cell_type": "code",
   "execution_count": null,
   "id": "3bb4c75a",
   "metadata": {},
   "outputs": [],
   "source": [
    "if os.path.exists('./ps2d/'):\n",
    "    shutil.rmtree('./ps2d')\n",
    "shutil.copytree('./ps2c/', './ps2d', dirs_exist_ok=True)"
   ]
  },
  {
   "cell_type": "code",
   "execution_count": null,
   "id": "7b50c8cb",
   "metadata": {},
   "outputs": [],
   "source": [
    "# read in the model\n",
    "sim = flopy.mf6.MFSimulation.load(sim_ws = './ps2d/', exe_name=mfexe)\n",
    "m = sim.get_model()"
   ]
  },
  {
   "cell_type": "code",
   "execution_count": null,
   "id": "be87fbe3",
   "metadata": {},
   "outputs": [],
   "source": [
    "wel = flopy.mf6.ModflowGwfwel(m, stress_period_data=[[(0,10,9), -75000]])"
   ]
  },
  {
   "cell_type": "code",
   "execution_count": null,
   "id": "2034f86b",
   "metadata": {},
   "outputs": [],
   "source": [
    "sim.write_simulation()\n",
    "sim.run_simulation()"
   ]
  },
  {
   "cell_type": "code",
   "execution_count": null,
   "id": "23fe22eb",
   "metadata": {},
   "outputs": [],
   "source": [
    "m2dhead = m.output.head().get_data()\n",
    "fig, ax = plt.subplots(3,2)\n",
    "for i in range(m1head.shape[0]):\n",
    "    d=ax[i,0].imshow(m2chead[i])\n",
    "    plt.colorbar(d)\n",
    "    d=ax[i,1].imshow(m2dhead[i])\n",
    "    plt.colorbar(d)\n",
    "ax[0,0].set_title('PS2C')\n",
    "ax[0,1].set_title('PS2D')\n",
    "plt.tight_layout()"
   ]
  },
  {
   "cell_type": "code",
   "execution_count": null,
   "id": "2b7dd246",
   "metadata": {},
   "outputs": [],
   "source": [
    "m2d_bud = m.output.list().get_dataframes()[0]"
   ]
  },
  {
   "cell_type": "code",
   "execution_count": null,
   "id": "439ddc79",
   "metadata": {},
   "outputs": [],
   "source": [
    "m2d_bud"
   ]
  },
  {
   "cell_type": "code",
   "execution_count": null,
   "id": "c638b2a8",
   "metadata": {},
   "outputs": [],
   "source": [
    "m2c_bud"
   ]
  },
  {
   "cell_type": "code",
   "execution_count": null,
   "id": "58fbcf4b",
   "metadata": {},
   "outputs": [],
   "source": [
    "table_c_to_d = pd.DataFrame(data = {'package':['RIV','DRN','WEL'],\n",
    "                                   'PS2D':[m2d_bud['RIV_OUT'].values[0],\n",
    "                                          m2d_bud['DRN_OUT'].values[0],\n",
    "                                          m2d_bud['WEL_OUT'].values[0]],\n",
    "                                   'PS2C':[m2c_bud['RIV_OUT'].values[0],\n",
    "                                          m2c_bud['DRN_OUT'].values[0],\n",
    "                                          0]})\n",
    "table_c_to_d['PS2D-PS2C'] = table_c_to_d.PS2D-table_c_to_d.PS2C"
   ]
  },
  {
   "cell_type": "code",
   "execution_count": null,
   "id": "57bde2c7",
   "metadata": {},
   "outputs": [],
   "source": [
    "table_c_to_d"
   ]
  },
  {
   "cell_type": "code",
   "execution_count": null,
   "id": "62e4dafe",
   "metadata": {},
   "outputs": [],
   "source": [
    "table_c_to_d['PS2D-PS2C'].sum()"
   ]
  },
  {
   "cell_type": "markdown",
   "id": "d582b8cb",
   "metadata": {},
   "source": [
    "# PART E: Transient Flow"
   ]
  },
  {
   "cell_type": "code",
   "execution_count": null,
   "id": "47dfe781",
   "metadata": {},
   "outputs": [],
   "source": [
    "if os.path.exists('./ps2e/'):\n",
    "    shutil.rmtree('./ps2e')\n",
    "shutil.copytree('./ps2d/', './ps2e', dirs_exist_ok=True)"
   ]
  },
  {
   "cell_type": "code",
   "execution_count": null,
   "id": "1c49a48f",
   "metadata": {},
   "outputs": [],
   "source": [
    "# read in the model\n",
    "sim = flopy.mf6.MFSimulation.load(sim_ws = './ps2e/', exe_name=mfexe)\n",
    "m = sim.get_model()"
   ]
  },
  {
   "cell_type": "code",
   "execution_count": null,
   "id": "422e3790",
   "metadata": {},
   "outputs": [],
   "source": [
    "sim.tdis.nper=3\n",
    "simpd = pd.DataFrame(data={'perlen':[300000,36500,300000],\n",
    "                          'nstp':[1,10,1],\n",
    "                          'tsmult':[1,1.5,1]})\n",
    "sim.tdis.perioddata = simpd.to_records(index=None)"
   ]
  },
  {
   "cell_type": "code",
   "execution_count": null,
   "id": "389d892e",
   "metadata": {},
   "outputs": [],
   "source": [
    "sto = flopy.mf6.ModflowGwfsto(m, sy=0.1, ss=0.0001, iconvert=1, steady_state={0:True,1:False,2:True},\n",
    "                             transient={0:False,1:True,2:False})"
   ]
  },
  {
   "cell_type": "code",
   "execution_count": null,
   "id": "11f9c48d",
   "metadata": {},
   "outputs": [],
   "source": [
    "sim.tdis.perioddata"
   ]
  },
  {
   "cell_type": "markdown",
   "id": "62f78d9a",
   "metadata": {},
   "source": [
    "### add the second well with the proper timing"
   ]
  },
  {
   "cell_type": "code",
   "execution_count": null,
   "id": "61c372cb",
   "metadata": {},
   "outputs": [],
   "source": [
    "m.remove_package(m.wel)"
   ]
  },
  {
   "cell_type": "code",
   "execution_count": null,
   "id": "45dcbffd",
   "metadata": {},
   "outputs": [],
   "source": [
    "wel_spd = {0:[[(0,10,9), -75000]],\n",
    "           1:[[(0,10,9), -75000],[(2,12,4), -100000]],\n",
    "           2:[[(0,10,9), -75000],[(2,12,4), -100000]]}"
   ]
  },
  {
   "cell_type": "code",
   "execution_count": null,
   "id": "c7140295",
   "metadata": {},
   "outputs": [],
   "source": [
    "wel = flopy.mf6.ModflowGwfwel(m, stress_period_data=wel_spd)"
   ]
  },
  {
   "cell_type": "code",
   "execution_count": null,
   "id": "4b5c4ef3",
   "metadata": {},
   "outputs": [],
   "source": [
    "# m.oc.printrecord"
   ]
  },
  {
   "cell_type": "code",
   "execution_count": null,
   "id": "e0f96c75",
   "metadata": {},
   "outputs": [],
   "source": [
    "saverecord = pd.DataFrame(data={'rtype':['head','budget'], \n",
    "                                'ocsetting':['all','all'],\n",
    "                                'ocsetting_data':[None, None]})"
   ]
  },
  {
   "cell_type": "code",
   "execution_count": null,
   "id": "9b116aa5",
   "metadata": {},
   "outputs": [],
   "source": [
    "# m.oc.saverecord = {i:saverecord.to_records(index=None) for i in range(3)}"
   ]
  },
  {
   "cell_type": "code",
   "execution_count": null,
   "id": "580e5824",
   "metadata": {},
   "outputs": [],
   "source": [
    "sim.write_simulation()\n",
    "sim.run_simulation()"
   ]
  },
  {
   "cell_type": "code",
   "execution_count": null,
   "id": "a65cae5d",
   "metadata": {},
   "outputs": [],
   "source": [
    "times = m.output.head().get_times()"
   ]
  },
  {
   "cell_type": "code",
   "execution_count": null,
   "id": "9f5ad55d",
   "metadata": {},
   "outputs": [],
   "source": [
    "times"
   ]
  },
  {
   "cell_type": "code",
   "execution_count": null,
   "id": "49a99c92",
   "metadata": {},
   "outputs": [],
   "source": [
    "m2ehead = np.array([m.output.head().get_data(totim=i) for i in times])\n",
    "m2ehead.shape"
   ]
  },
  {
   "cell_type": "code",
   "execution_count": null,
   "id": "c5d9859f",
   "metadata": {
    "scrolled": true
   },
   "outputs": [],
   "source": [
    "for t in range(len(times)):\n",
    "    fig, ax = plt.subplots(1,3, figsize=(8,4))\n",
    "    for i in range(3):\n",
    "        d=ax[i].imshow(m2ehead[t,i,:,:])\n",
    "        plt.colorbar(d, shrink=.5)\n",
    "        ax[i].set_title(f'head layer {i}')\n",
    "    plt.suptitle(f'PS2E head at time={times[t]:.0f}')\n",
    "    plt.tight_layout()"
   ]
  },
  {
   "cell_type": "markdown",
   "id": "2e31720f",
   "metadata": {},
   "source": [
    "### Exercise 13: Look at the budgets and see how storage interacts with the river and drain"
   ]
  },
  {
   "cell_type": "code",
   "execution_count": null,
   "id": "a6860c24",
   "metadata": {},
   "outputs": [],
   "source": [
    "m2e_budfile = fu.Mf6ListBudget('./ps2e/ps2.lst')"
   ]
  },
  {
   "cell_type": "code",
   "execution_count": null,
   "id": "f05cd4d4",
   "metadata": {},
   "outputs": [],
   "source": [
    "m2e_bud_inc, m2e_bud_cumul = m2e_budfile.get_budget()"
   ]
  },
  {
   "cell_type": "code",
   "execution_count": null,
   "id": "ed6b78a6",
   "metadata": {},
   "outputs": [],
   "source": [
    "m2e_bud_incdf = pd.DataFrame.from_records(m2e_bud_inc)\n",
    "m2e_bud_incdf"
   ]
  },
  {
   "cell_type": "code",
   "execution_count": null,
   "id": "ab3a2617",
   "metadata": {},
   "outputs": [],
   "source": [
    "m2e_bud_incdf[['STO-SS_IN','STO-SY_IN','DRN_OUT','RIV_OUT']].plot()"
   ]
  },
  {
   "cell_type": "markdown",
   "id": "e6e4cc6a",
   "metadata": {},
   "source": [
    "### Excercise 14: Change the timing of the steady-state stress periods"
   ]
  },
  {
   "cell_type": "code",
   "execution_count": null,
   "id": "8a58a0b2",
   "metadata": {},
   "outputs": [],
   "source": [
    "if os.path.exists('./ps2e_changed/'):\n",
    "    shutil.rmtree('./ps2e_changed')\n",
    "shutil.copytree('./ps2e/', './ps2e_changed', dirs_exist_ok=True)"
   ]
  },
  {
   "cell_type": "code",
   "execution_count": null,
   "id": "72b0af36",
   "metadata": {},
   "outputs": [],
   "source": [
    "# read in the model\n",
    "sim = flopy.mf6.MFSimulation.load(sim_ws = './ps2e_changed/', exe_name=mfexe)\n",
    "m = sim.get_model()"
   ]
  },
  {
   "cell_type": "code",
   "execution_count": null,
   "id": "c501575a",
   "metadata": {},
   "outputs": [],
   "source": [
    "sim.tdis.nper=3\n",
    "simpd = pd.DataFrame(data={'perlen':[1,36500,1],\n",
    "                          'nstp':[1,10,1],\n",
    "                          'tsmult':[1,1.5,1]})\n",
    "sim.tdis.perioddata = simpd.to_records(index=None)\n",
    "sim.tdis.perioddata"
   ]
  },
  {
   "cell_type": "code",
   "execution_count": null,
   "id": "1d9eb0ed",
   "metadata": {},
   "outputs": [],
   "source": [
    "sim.write_simulation()\n",
    "sim.run_simulation()\n",
    "m2e_changed_budfile = fu.Mf6ListBudget('./ps2e_changed/ps2.lst')\n",
    "m2e_changed_bud_inc, m2e_changed_bud_cumul = m2e_changed_budfile.get_budget()"
   ]
  },
  {
   "cell_type": "code",
   "execution_count": null,
   "id": "86bb9c51",
   "metadata": {},
   "outputs": [],
   "source": [
    "m2e_changedbud_incdf = pd.DataFrame.from_records(m2e_changed_bud_inc)\n",
    "m2e_changedbud_incdf"
   ]
  },
  {
   "cell_type": "code",
   "execution_count": null,
   "id": "f204cb37",
   "metadata": {},
   "outputs": [],
   "source": [
    "# compare with the old longer times\n",
    "m2e_bud_incdf"
   ]
  },
  {
   "cell_type": "code",
   "execution_count": null,
   "id": "ec9eae27",
   "metadata": {},
   "outputs": [],
   "source": []
  }
 ],
 "metadata": {
  "kernelspec": {
   "display_name": "Python 3 (ipykernel)",
   "language": "python",
   "name": "python3"
  },
  "language_info": {
   "codemirror_mode": {
    "name": "ipython",
    "version": 3
   },
   "file_extension": ".py",
   "mimetype": "text/x-python",
   "name": "python",
   "nbconvert_exporter": "python",
   "pygments_lexer": "ipython3",
   "version": "3.9.15"
  }
 },
 "nbformat": 4,
 "nbformat_minor": 5
}
