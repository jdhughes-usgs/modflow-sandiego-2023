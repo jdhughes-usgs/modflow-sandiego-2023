{
 "cells": [
  {
   "cell_type": "code",
   "execution_count": null,
   "id": "d2fdd57d",
   "metadata": {},
   "outputs": [],
   "source": [
    "import numpy as np\n",
    "import matplotlib.pyplot as plt\n",
    "from matplotlib.animation import FuncAnimation, PillowWriter, FFMpegWriter\n",
    "import flopy\n",
    "import shutil, os\n",
    "from IPython.display import HTML\n"
   ]
  },
  {
   "cell_type": "code",
   "execution_count": null,
   "id": "9d3d24e7",
   "metadata": {},
   "outputs": [],
   "source": [
    "def hmean(x1,x2):\n",
    "    return(2/np.sum((1/x1,1/x2)))"
   ]
  },
  {
   "cell_type": "code",
   "execution_count": null,
   "id": "e788fa3b",
   "metadata": {},
   "outputs": [],
   "source": [
    "dx = 10.\n",
    "dy = 10.\n",
    "nx = 40\n",
    "b = 1.\n",
    "kx = 1\n",
    "h0_x0 = 10.\n",
    "h0_xL = 5\n",
    "R = 0.001\n",
    "x = np.linspace(0,nx,nx)*dx\n",
    "k = kx*np.ones_like(x)\n",
    "Rx = R*dx*dy\n",
    "k[np.floor(nx/3).astype(int):] = 20\n",
    "G = Rx\n",
    "tol = 1e-6"
   ]
  },
  {
   "cell_type": "markdown",
   "id": "871ac1a2",
   "metadata": {},
   "source": [
    "# fixed head both boundaries"
   ]
  },
  {
   "cell_type": "markdown",
   "id": "cd795f53",
   "metadata": {},
   "source": [
    "### first implicit solution as reference"
   ]
  },
  {
   "cell_type": "code",
   "execution_count": null,
   "id": "d1c0ca30",
   "metadata": {},
   "outputs": [],
   "source": [
    "x = np.linspace(0,nx,nx)*dx\n",
    "k = kx*np.ones_like(x)\n",
    "Rx = R*dx*dy\n",
    "h = np.zeros_like(x)\n",
    "# add some heterogeneity\n",
    "k[np.floor(nx/3).astype(int):] = 20\n",
    "G = Rx\n",
    "\n",
    "LHS = np.zeros((nx,nx))\n",
    "RHS = np.ones(nx) * Rx\n",
    "for i in range(1,nx-1): \n",
    "    D = - hmean(k[i-1],k[i]) * b * dy / (dx)\n",
    "    F = - hmean(k[i+1],k[i]) * b * dy / (dx)\n",
    "    E = -D - F\n",
    "    LHS[i,i-1] = D\n",
    "    LHS[i,i]=E\n",
    "    LHS[i,i+1]= F\n",
    "    RHS[i] = G\n",
    "\n",
    "LHS[0,0] = 1\n",
    "LHS[nx-1,nx-1] = 1\n",
    "\n",
    "RHS[nx-1] = h0_xL\n",
    "RHS[0]= h0_x0"
   ]
  },
  {
   "cell_type": "code",
   "execution_count": null,
   "id": "37bad94c",
   "metadata": {},
   "outputs": [],
   "source": [
    "h_imp=np.linalg.solve(LHS,RHS)"
   ]
  },
  {
   "cell_type": "markdown",
   "id": "2e27df77",
   "metadata": {},
   "source": [
    "### now explicit inefficient solution for fixed_head case"
   ]
  },
  {
   "cell_type": "code",
   "execution_count": null,
   "id": "3cfd4286",
   "metadata": {},
   "outputs": [],
   "source": [
    "# initialize the heads \n",
    "h_old = np.mean((h0_x0,h0_xL)) * np.ones_like(x)\n",
    "h_old[0] = h0_x0\n",
    "h_old[nx-1] = h0_xL"
   ]
  },
  {
   "cell_type": "code",
   "execution_count": null,
   "id": "239f7eba",
   "metadata": {},
   "outputs": [],
   "source": [
    "conv=[np.inf]\n",
    "h = np.atleast_2d(h_old.copy())\n",
    "for j in range(10000):\n",
    "    if conv[-1]>tol:\n",
    "        h_curr = h[-1].copy()\n",
    "        for i in range(1, len(x)-1):\n",
    "            D = - hmean(k[i-1],k[i]) * b * dy / (dx)\n",
    "            F = - hmean(k[i+1],k[i]) * b * dy / (dx)\n",
    "            E = -D - F\n",
    "            h_curr[i] = (G-D*h_curr[i-1]-F*h_curr[i+1])/E\n",
    "        h = np.vstack((h,h_curr))\n",
    "\n",
    "        conv.append(np.max(np.abs(h[-1,:]-h_old)))\n",
    "        h_old=h[-1,:].copy()"
   ]
  },
  {
   "cell_type": "code",
   "execution_count": null,
   "id": "9496571a",
   "metadata": {},
   "outputs": [],
   "source": [
    "h[1,:]-h[0,:]"
   ]
  },
  {
   "cell_type": "markdown",
   "id": "7e9d3124",
   "metadata": {},
   "source": [
    "### make a schmancy animation of iterating through the explicit solution"
   ]
  },
  {
   "cell_type": "code",
   "execution_count": null,
   "id": "43aef695",
   "metadata": {
    "scrolled": false
   },
   "outputs": [],
   "source": [
    "fig, ax = plt.subplots(nrows=1, ncols=2, figsize=(10,4))\n",
    "ax[0].plot(x,h_imp, 'o-', label='\"Truth\"')\n",
    "l0, = ax[0].plot([],[], label='Current head solution')\n",
    "l1, = ax[1].plot([],[], lw=2)\n",
    "line=[l0,l1]\n",
    "ax[0].set_xlim((0,x.max()))\n",
    "ax[1].set_xlim((0,x.max()))\n",
    "ax[0].set_ylim((0,12))\n",
    "ax[1].set_ylim((-.2,.2))\n",
    "plt.suptitle('Fixed Head Boundary')\n",
    "def init():\n",
    "    ax[0].set_ylim((0,12))\n",
    "    ax[1].set_ylim((-.2,.2))\n",
    "    ax[0].set_title('')\n",
    "    ax[1].set_title('')\n",
    "\n",
    "\n",
    "def update(i):\n",
    "    if i==0:\n",
    "        h_old = h[i,:]\n",
    "    else:\n",
    "        h_old = h[i-1,:]\n",
    "    line[0].set_data(x, h[i,:])\n",
    "    ax[0].legend()\n",
    "    line[1].set_data(x, h[i,:]-h_old)\n",
    "    ax[0].set_title(f'Head Solution: iter {i}')\n",
    "    ax[1].set_title(f'Error = {conv[i]:.4e}')\n",
    "    return line\n",
    "ani = FuncAnimation(fig, update, range(h.shape[0]), init_func=init)\n",
    "writer = FFMpegWriter(fps=50)\n",
    "fpth = \"./gauss_siedelish_fixed_head.mp4\"\n",
    "ani.save(fpth, writer=writer)"
   ]
  },
  {
   "cell_type": "markdown",
   "id": "5ef5df7e",
   "metadata": {},
   "source": [
    "### now explicit inefficient solution for no_flow_left boundary case"
   ]
  },
  {
   "cell_type": "code",
   "execution_count": null,
   "id": "6b858487",
   "metadata": {},
   "outputs": [],
   "source": [
    "h_imp2 = np.zeros_like(x)\n",
    "G = Rx\n",
    "\n",
    "LHS = np.zeros((nx,nx))\n",
    "RHS = np.ones(nx) * G\n",
    "for i in range(1,nx-1): \n",
    "    D = - hmean(k[i-1],k[i]) * b * dy / (dx)\n",
    "    F = - hmean(k[i+1],k[i]) * b * dy / (dx)\n",
    "    E = -D - F\n",
    "    LHS[i,i-1] = D\n",
    "    LHS[i,i]=E\n",
    "    LHS[i,i+1]= F\n",
    "    RHS[i] = G\n",
    "\n",
    "LHS[0,0] = hmean(k[1],k[0]) * b * dy / (dx) \n",
    "LHS[0,1] = -hmean(k[1],k[0]) * b * dy / (dx) \n",
    "LHS[nx-1,nx-1] = 1\n",
    "\n",
    "RHS[nx-1] = h0_xL"
   ]
  },
  {
   "cell_type": "code",
   "execution_count": null,
   "id": "c83a286b",
   "metadata": {},
   "outputs": [],
   "source": [
    "h_imp2=np.linalg.solve(LHS,RHS)"
   ]
  },
  {
   "cell_type": "code",
   "execution_count": null,
   "id": "a6ac0146",
   "metadata": {},
   "outputs": [],
   "source": [
    "# initialize the heads \n",
    "h_old = np.mean((h0_x0,h0_xL)) * np.ones_like(x)\n",
    "h_old[nx-1] = h0_xL"
   ]
  },
  {
   "cell_type": "code",
   "execution_count": null,
   "id": "537d85d7",
   "metadata": {},
   "outputs": [],
   "source": [
    "conv=[np.inf]\n",
    "h = np.atleast_2d(h_old.copy())\n",
    "for j in range(10000):\n",
    "    if conv[-1]>tol:\n",
    "        h_curr = h[-1].copy()\n",
    "        \n",
    "        # left boundary first\n",
    "        F = - hmean(k[1],k[0]) * b * dy / (dx)\n",
    "        h_curr[0] = h_curr[1]-G/F\n",
    "        \n",
    "        for i in range(1, len(x)-1):\n",
    "            D = - hmean(k[i-1],k[i]) * b * dy / (dx)\n",
    "            F = - hmean(k[i+1],k[i]) * b * dy / (dx)\n",
    "            E = -D - F\n",
    "            h_curr[i] = (G-D*h_curr[i-1]-F*h_curr[i+1])/E\n",
    "        h = np.vstack((h,h_curr))\n",
    "\n",
    "        conv.append(np.sum(h[-1,:]-h_old)**2)\n",
    "        h_old=h[-1,:].copy()"
   ]
  },
  {
   "cell_type": "code",
   "execution_count": null,
   "id": "a03baafc",
   "metadata": {},
   "outputs": [],
   "source": [
    "fig, ax = plt.subplots(nrows=1, ncols=2, figsize=(10,4))\n",
    "ax[0].plot(x,h_imp2, 'o-', label='\"Truth\"')\n",
    "l0, = ax[0].plot([],[], label='Current head solution')\n",
    "l1, = ax[1].plot([],[], lw=2)\n",
    "line=[l0,l1]\n",
    "ax[0].set_xlim((0,x.max()))\n",
    "ax[1].set_xlim((0,x.max()))\n",
    "ax[0].set_ylim((0,20))\n",
    "ax[1].set_ylim((-.2,.2))\n",
    "plt.suptitle('No Flow left Boundary')\n",
    "def init():\n",
    "    ax[0].set_ylim((0,20))\n",
    "    ax[1].set_ylim((-.2,.2))\n",
    "    ax[0].set_title('')\n",
    "    ax[1].set_title('')\n",
    "\n",
    "\n",
    "def update(i):\n",
    "    if i==0:\n",
    "        h_old = h[i,:]\n",
    "    else:\n",
    "        h_old = h[i-1,:]\n",
    "    line[0].set_data(x, h[i,:])\n",
    "    ax[0].legend()\n",
    "    line[1].set_data(x, h[i,:]-h_old)\n",
    "    ax[0].set_title(f'Head Solution: iter {i}')\n",
    "    ax[1].set_title(f'Error = {conv[i]:.4e}')\n",
    "    return line\n",
    "ani = FuncAnimation(fig, update, range(h.shape[0]), init_func=init)\n",
    "writer = FFMpegWriter(fps=50)\n",
    "fpth = \"./gauss_siedelish_no_flow_left.mp4\"\n",
    "ani.save(fpth, writer=writer)"
   ]
  }
 ],
 "metadata": {
  "kernelspec": {
   "display_name": "Python 3 (ipykernel)",
   "language": "python",
   "name": "python3"
  },
  "language_info": {
   "codemirror_mode": {
    "name": "ipython",
    "version": 3
   },
   "file_extension": ".py",
   "mimetype": "text/x-python",
   "name": "python",
   "nbconvert_exporter": "python",
   "pygments_lexer": "ipython3",
   "version": "3.11.0"
  }
 },
 "nbformat": 4,
 "nbformat_minor": 5
}
