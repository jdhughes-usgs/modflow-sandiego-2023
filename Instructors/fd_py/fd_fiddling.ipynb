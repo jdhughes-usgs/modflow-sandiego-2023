{
 "cells": [
  {
   "cell_type": "code",
   "execution_count": null,
   "id": "d2fdd57d",
   "metadata": {},
   "outputs": [],
   "source": [
    "import numpy as np\n",
    "import matplotlib.pyplot as plt\n",
    "import flopy\n",
    "import shutil"
   ]
  },
  {
   "cell_type": "code",
   "execution_count": null,
   "id": "9d3d24e7",
   "metadata": {},
   "outputs": [],
   "source": [
    "def hmean(x1,x2):\n",
    "    return(2/np.sum((1/x1,1/x2)))"
   ]
  },
  {
   "cell_type": "code",
   "execution_count": null,
   "id": "e788fa3b",
   "metadata": {},
   "outputs": [],
   "source": [
    "dx = 10.\n",
    "dy = 10.\n",
    "nx = 40\n",
    "b = 1.\n",
    "kx = 1\n",
    "h0_x0 = 10.\n",
    "h0_xL = 5\n",
    "R = 0.01"
   ]
  },
  {
   "cell_type": "markdown",
   "id": "871ac1a2",
   "metadata": {},
   "source": [
    "# fixed head both boundaries"
   ]
  },
  {
   "cell_type": "code",
   "execution_count": null,
   "id": "4a36e8e3",
   "metadata": {},
   "outputs": [],
   "source": [
    "x = np.linspace(0,nx,nx)*dx\n",
    "k = kx*np.ones_like(x)\n",
    "Rx = R*dx*dy\n",
    "h = np.zeros_like(x)\n",
    "# add some heterogeneity\n",
    "k[np.floor(nx/3).astype(int):] = 20\n",
    "G = Rx\n",
    "\n",
    "LHS = np.zeros((nx,nx))\n",
    "RHS = np.ones(nx) * Rx\n",
    "for i in range(1,nx-1): \n",
    "    D = - hmean(k[i-1],k[i]) * b * dy / (dx)\n",
    "    F = - hmean(k[i+1],k[i]) * b * dy / (dx)\n",
    "    E = -D - F\n",
    "    LHS[i,i-1] = D\n",
    "    LHS[i,i]=E\n",
    "    LHS[i,i+1]= F\n",
    "    RHS[i] = G\n",
    "\n",
    "LHS[0,0] = 1\n",
    "LHS[nx-1,nx-1] = 1\n",
    "\n",
    "RHS[nx-1] = h0_xL\n",
    "RHS[0]= h0_x0"
   ]
  },
  {
   "cell_type": "code",
   "execution_count": null,
   "id": "7ae0fc69",
   "metadata": {},
   "outputs": [],
   "source": [
    "h=np.linalg.solve(LHS,RHS)"
   ]
  },
  {
   "cell_type": "code",
   "execution_count": null,
   "id": "5002495c",
   "metadata": {},
   "outputs": [],
   "source": [
    "sim = flopy.mf6.MFSimulation(sim_name='test',sim_ws='test', verbosity_level=0, exe_name='./mf6')\n",
    "tdis = flopy.mf6.ModflowTdis(sim)\n",
    "ims = flopy.mf6.ModflowIms(sim)\n",
    "gwf = flopy.mf6.ModflowGwf(sim,modelname='test',save_flows=True)\n",
    "dis = flopy.mf6.ModflowGwfdis(gwf, nrow=1, ncol=nx, delr=dy,delc=dx)\n",
    "ic = flopy.mf6.ModflowGwfic(gwf,strt=7.5)\n",
    "npf = flopy.mf6.ModflowGwfnpf(gwf, k=k)\n",
    "chd = flopy.mf6.ModflowGwfchd(gwf, stress_period_data=[[(0,0,0),h0_x0],[(0,0,nx-1),h0_xL]])\n",
    "rch = flopy.mf6.ModflowGwfrch(gwf,stress_period_data=[[(0,0,i),R] for i in range(nx)])\n",
    "oc = flopy.mf6.ModflowGwfoc(gwf, budget_filerecord='test.bud', head_filerecord='test.hds',\n",
    "                           saverecord=[('head','all'),('budget','all')])\n",
    "shutil.copy2('mf6','test/mf6')"
   ]
  },
  {
   "cell_type": "code",
   "execution_count": null,
   "id": "6c9a37be",
   "metadata": {},
   "outputs": [],
   "source": [
    "k"
   ]
  },
  {
   "cell_type": "code",
   "execution_count": null,
   "id": "e4092d9d",
   "metadata": {},
   "outputs": [],
   "source": [
    "sim.write_simulation()\n",
    "#shutil.copy2('mf6','test/.')\n",
    "sim.run_simulation()\n",
    "mfhead = gwf.output.head().get_data().flatten()"
   ]
  },
  {
   "cell_type": "code",
   "execution_count": null,
   "id": "78affe9d",
   "metadata": {},
   "outputs": [],
   "source": [
    "plt.plot(x,h,'.-',c='blue', label='py')\n",
    "plt.plot(x,mfhead,'x-',c='orange', label='mf6')\n",
    "plt.legend()"
   ]
  },
  {
   "cell_type": "markdown",
   "id": "ee9a047e",
   "metadata": {},
   "source": [
    "# no flow left boundary"
   ]
  },
  {
   "cell_type": "code",
   "execution_count": null,
   "id": "84fc6a3e",
   "metadata": {},
   "outputs": [],
   "source": [
    "h = np.zeros_like(x)\n",
    "G = Rx\n",
    "\n",
    "LHS = np.zeros((nx,nx))\n",
    "RHS = np.ones(nx) * G\n",
    "for i in range(1,nx-1): \n",
    "    D = - hmean(k[i-1],k[i]) * b * dy / (dx)\n",
    "    F = - hmean(k[i+1],k[i]) * b * dy / (dx)\n",
    "    E = -D - F\n",
    "    LHS[i,i-1] = D\n",
    "    LHS[i,i]=E\n",
    "    LHS[i,i+1]= F\n",
    "    RHS[i] = G\n",
    "\n",
    "LHS[0,0] = hmean(k[1],k[0]) * b * dy / (dx) \n",
    "LHS[0,1] = -hmean(k[1],k[0]) * b * dy / (dx) \n",
    "LHS[nx-1,nx-1] = 1\n",
    "\n",
    "RHS[nx-1] = h0_xL\n"
   ]
  },
  {
   "cell_type": "code",
   "execution_count": null,
   "id": "bbbd2dca",
   "metadata": {},
   "outputs": [],
   "source": [
    "h=np.linalg.solve(LHS,RHS)"
   ]
  },
  {
   "cell_type": "code",
   "execution_count": null,
   "id": "a8ea2551",
   "metadata": {},
   "outputs": [],
   "source": [
    "sim = flopy.mf6.MFSimulation(sim_name='test',sim_ws='test', verbosity_level=0, exe_name='./mf6')\n",
    "tdis = flopy.mf6.ModflowTdis(sim)\n",
    "ims = flopy.mf6.ModflowIms(sim)\n",
    "gwf = flopy.mf6.ModflowGwf(sim,modelname='test',save_flows=True)\n",
    "dis = flopy.mf6.ModflowGwfdis(gwf, nrow=1, ncol=nx, delr=dy,delc=dx)\n",
    "ic = flopy.mf6.ModflowGwfic(gwf,strt=7.5)\n",
    "npf = flopy.mf6.ModflowGwfnpf(gwf, k=k)\n",
    "chd = flopy.mf6.ModflowGwfchd(gwf, stress_period_data=[[(0,0,nx-1),h0_xL]])\n",
    "rch = flopy.mf6.ModflowGwfrch(gwf,stress_period_data=[[(0,0,i),R] for i in range(nx)])\n",
    "oc = flopy.mf6.ModflowGwfoc(gwf, budget_filerecord='test.bud', head_filerecord='test.hds',\n",
    "                           saverecord=[('head','all'),('budget','all')])"
   ]
  },
  {
   "cell_type": "code",
   "execution_count": null,
   "id": "82cd4619",
   "metadata": {},
   "outputs": [],
   "source": [
    "sim.write_simulation()\n",
    "#shutil.copy2('mf6','test/.')\n",
    "sim.run_simulation()\n",
    "mfhead = gwf.output.head().get_data().flatten()"
   ]
  },
  {
   "cell_type": "code",
   "execution_count": null,
   "id": "7fd0184b",
   "metadata": {},
   "outputs": [],
   "source": [
    "plt.plot(x,h,'.-',c='blue', label='py')\n",
    "plt.plot(x,mfhead,'x-',c='orange', label='mf6')\n",
    "plt.legend()"
   ]
  },
  {
   "cell_type": "code",
   "execution_count": null,
   "id": "4b8c4ad4",
   "metadata": {},
   "outputs": [],
   "source": []
  }
 ],
 "metadata": {
  "kernelspec": {
   "display_name": "Python 3 (ipykernel)",
   "language": "python",
   "name": "python3"
  },
  "language_info": {
   "codemirror_mode": {
    "name": "ipython",
    "version": 3
   },
   "file_extension": ".py",
   "mimetype": "text/x-python",
   "name": "python",
   "nbconvert_exporter": "python",
   "pygments_lexer": "ipython3",
   "version": "3.11.0"
  }
 },
 "nbformat": 4,
 "nbformat_minor": 5
}
