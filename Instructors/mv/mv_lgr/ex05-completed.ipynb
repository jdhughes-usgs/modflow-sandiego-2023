{
 "cells": [
  {
   "cell_type": "markdown",
   "metadata": {},
   "source": [
    "# Advanced Modeling of Groundwater Flow (GW3099)\n",
    "![alt text](..\\img\\header.jpg)\n",
    "\n",
    "# Exercise 5: MODFLOW 6\n",
    "The purpose of this exercise is to use MODFLOW 6 to simulate example problem 1 using Flopy."
   ]
  },
  {
   "cell_type": "markdown",
   "metadata": {},
   "source": [
    "## Part I. Setup Notebook"
   ]
  },
  {
   "cell_type": "code",
   "execution_count": 1,
   "metadata": {
    "scrolled": true
   },
   "outputs": [
    {
     "name": "stdout",
     "output_type": "stream",
     "text": [
      "3.11.0 | packaged by conda-forge | (main, Oct 25 2022, 06:21:02) [Clang 14.0.4 ]\n",
      "python executable: /Users/mnfienen/opt/miniconda3/envs/dev/bin/python\n",
      "numpy version: 1.23.4\n",
      "matplotlib version: 3.6.2\n",
      "flopy version: 3.3.6\n"
     ]
    }
   ],
   "source": [
    "%matplotlib inline\n",
    "import sys\n",
    "import os\n",
    "import shutil\n",
    "import numpy as np\n",
    "import matplotlib as mpl\n",
    "import matplotlib.pyplot as plt\n",
    "import flopy\n",
    "\n",
    "print(sys.version)\n",
    "print('python executable: {}'.format(sys.executable))\n",
    "print('numpy version: {}'.format(np.__version__))\n",
    "print('matplotlib version: {}'.format(mpl.__version__))\n",
    "print('flopy version: {}'.format(flopy.__version__))"
   ]
  },
  {
   "cell_type": "markdown",
   "metadata": {},
   "source": [
    "## Part II. Create, Run, and Post-Process MODFLOW 6 Model"
   ]
  },
  {
   "cell_type": "code",
   "execution_count": 2,
   "metadata": {},
   "outputs": [],
   "source": [
    "# model info\n",
    "model_name = 'ex05'\n",
    "model_ws = './ex05-completed'\n",
    "\n",
    "# grid properties\n",
    "nlay = 3\n",
    "nrow = 21\n",
    "ncol = 20\n",
    "delr = 500.\n",
    "delc = 500.\n",
    "top = 400.\n",
    "botm = [220., 200., 0.]\n",
    "\n",
    "# hydraulic properties\n",
    "hk0 = 50.\n",
    "vk0 = 10.\n",
    "hk1 = 0.01\n",
    "vk1 = 0.01\n",
    "hk2 = 200.\n",
    "vk2 = 20"
   ]
  },
  {
   "cell_type": "markdown",
   "metadata": {},
   "source": [
    "## Part IIA. Create the Parent and Child Grids"
   ]
  },
  {
   "cell_type": "code",
   "execution_count": 3,
   "metadata": {},
   "outputs": [
    {
     "name": "stderr",
     "output_type": "stream",
     "text": [
      "/var/folders/gs/23hp3rd15qd6tyrfwt0r90qxz48f2r/T/ipykernel_43781/208540692.py:3: DeprecationWarning: `np.int` is a deprecated alias for the builtin `int`. To silence this warning, use `int` by itself. Doing this will not modify any behavior and is safe. When replacing `np.int`, you may wish to use e.g. `np.int64` or `np.int32` to specify the precision. If you wish to review your current use, check the release note link for additional information.\n",
      "Deprecated in NumPy 1.20; for more details and guidance: https://numpy.org/devdocs/release/1.20.0-notes.html#deprecations\n",
      "  idomain = np.ones((nlay, nrow, ncol), dtype=np.int)\n"
     ]
    },
    {
     "data": {
      "text/plain": [
       "<matplotlib.image.AxesImage at 0x12dbd8d50>"
      ]
     },
     "execution_count": 3,
     "metadata": {},
     "output_type": "execute_result"
    },
    {
     "data": {
      "image/png": "[encoded data removed]",
      "text/plain": [
       "<Figure size 457.143x480 with 1 Axes>"
      ]
     },
     "metadata": {},
     "output_type": "display_data"
    }
   ],
   "source": [
    "# Set the idomain of the parent model in order to \n",
    "# define where the child model will be located\n",
    "idomain = np.ones((nlay, nrow, ncol), dtype=np.int)\n",
    "idomain[0:3, 8:14, 7:13] = 0\n",
    "idomain[0:3, 7, 8:10] = 0\n",
    "plt.matshow(idomain[0])"
   ]
  },
  {
   "cell_type": "code",
   "execution_count": 4,
   "metadata": {},
   "outputs": [],
   "source": [
    "# create the flopy Lgr object to help define the child model\n",
    "from flopy.utils.lgrutil import Lgr\n",
    "ncpp = 3\n",
    "ncppl = [1, 1, 1]\n",
    "lgr = Lgr(nlay, nrow, ncol, delr, delc, top, botm,\n",
    "            idomain, ncpp, ncppl)"
   ]
  },
  {
   "cell_type": "code",
   "execution_count": 5,
   "metadata": {},
   "outputs": [],
   "source": [
    "# boundary conditions\n",
    "welspd = [[(3 - 1, 11 - 1, 10 - 1), -1.5e5]]\n",
    "rech = 0.005\n",
    "rivspd = [[(0, ir, ncol-1), 320., 1.e5, 318.] for ir in range(nrow)]"
   ]
  },
  {
   "cell_type": "code",
   "execution_count": 8,
   "metadata": {},
   "outputs": [
    {
     "name": "stderr",
     "output_type": "stream",
     "text": [
      "/var/folders/gs/23hp3rd15qd6tyrfwt0r90qxz48f2r/T/ipykernel_43781/3836102823.py:36: DeprecationWarning: `np.int` is a deprecated alias for the builtin `int`. To silence this warning, use `int` by itself. Doing this will not modify any behavior and is safe. When replacing `np.int`, you may wish to use e.g. `np.int64` or `np.int32` to specify the precision. If you wish to review your current use, check the release note link for additional information.\n",
      "Deprecated in NumPy 1.20; for more details and guidance: https://numpy.org/devdocs/release/1.20.0-notes.html#deprecations\n",
      "  aux = [np.ones((nrow, ncol), dtype=np.int)*6]\n",
      "/var/folders/gs/23hp3rd15qd6tyrfwt0r90qxz48f2r/T/ipykernel_43781/3836102823.py:71: DeprecationWarning: `np.int` is a deprecated alias for the builtin `int`. To silence this warning, use `int` by itself. Doing this will not modify any behavior and is safe. When replacing `np.int`, you may wish to use e.g. `np.int64` or `np.int32` to specify the precision. If you wish to review your current use, check the release note link for additional information.\n",
      "Deprecated in NumPy 1.20; for more details and guidance: https://numpy.org/devdocs/release/1.20.0-notes.html#deprecations\n",
      "  aux = [np.ones((nrow, ncol), dtype=np.int)*6]\n"
     ]
    },
    {
     "name": "stdout",
     "output_type": "stream",
     "text": [
      "writing simulation...\n",
      "  writing simulation name file...\n",
      "  writing simulation tdis package...\n",
      "  writing ims package ims_-1...\n",
      "  writing package ex05.gwfgwf...\n",
      "  writing model ex05...\n",
      "    writing model name file...\n",
      "    writing package dis...\n",
      "    writing package ic...\n",
      "    writing package npf...\n",
      "    writing package rcha_0...\n",
      "    writing package riv_0...\n",
      "INFORMATION: maxbound in ('gwf6', 'riv', 'dimensions') changed to 21 based on size of stress_period_data\n",
      "    writing package oc...\n",
      "  writing model ex05c...\n",
      "    writing model name file...\n",
      "    writing package dis...\n",
      "    writing package ic...\n",
      "    writing package npf...\n",
      "    writing package rcha_0...\n",
      "    writing package wel_0...\n",
      "INFORMATION: maxbound in ('gwf6', 'wel', 'dimensions') changed to 1 based on size of stress_period_data\n",
      "    writing package oc...\n",
      "FloPy is using the following executable to run the model: /Users/mnfienen/Library/CloudStorage/OneDrive-SharedLibraries-DOI/Langevin, Christian D - MODFLOW_SanDiego2023/bin/mf6\n",
      "                                   MODFLOW 6\n",
      "                U.S. GEOLOGICAL SURVEY MODULAR HYDROLOGIC MODEL\n",
      "                            VERSION 6.3.0 03/08/2022\n",
      "\n",
      "   MODFLOW 6 compiled Nov 27 2022 15:53:37 with Intel(R) Fortran Intel(R) 64\n",
      "   Compiler Classic for applications running on Intel(R) 64, Version 2021.7.1\n",
      "                             Build 20221019_000000\n",
      "\n",
      "This software is preliminary or provisional and is subject to \n",
      "revision. It is being provided to meet the need for timely best \n",
      "science. The software has not received final approval by the U.S. \n",
      "Geological Survey (USGS). No warranty, expressed or implied, is made \n",
      "by the USGS or the U.S. Government as to the functionality of the \n",
      "software and related material nor shall the fact of release \n",
      "constitute any such warranty. The software is provided on the \n",
      "condition that neither the USGS nor the U.S. Government shall be held \n",
      "liable for any damages resulting from the authorized or unauthorized \n",
      "use of the software.\n",
      "\n",
      " \n",
      " Run start date and time (yyyy/mm/dd hh:mm:ss): 2022/12/23 11:08:40\n",
      " \n",
      " Writing simulation list file: mfsim.lst\n",
      " Using Simulation name file: mfsim.nam\n",
      " \n",
      "    Solving:  Stress period:     1    Time step:     1\n",
      " \n",
      " Run end date and time (yyyy/mm/dd hh:mm:ss): 2022/12/23 11:08:40\n",
      " Elapsed run time:  0.090 Seconds\n",
      " \n",
      " Normal termination of simulation.\n"
     ]
    },
    {
     "data": {
      "text/plain": [
       "(True, [])"
      ]
     },
     "execution_count": 8,
     "metadata": {},
     "output_type": "execute_result"
    }
   ],
   "source": [
    "import platform\n",
    "if 'window' in platform.platform():\n",
    "    mf6exe = 'mf6.exe'\n",
    "else:\n",
    "    mf6exe = os.path.abspath('../../../bin/mf6')\n",
    "# create simulation\n",
    "sim = flopy.mf6.MFSimulation(sim_name=model_name, version='mf6', exe_name=mf6exe, \n",
    "                             sim_ws=model_ws)\n",
    "\n",
    "# create tdis package\n",
    "tdis = flopy.mf6.ModflowTdis(sim)\n",
    "\n",
    "# create gwf model\n",
    "gwf = flopy.mf6.ModflowGwf(sim, modelname=model_name,\n",
    "                           model_nam_file='{}.nam'.format(model_name))\n",
    "gwf.name_file.save_flows = True\n",
    "\n",
    "# create iterative model solution and register the gwf model with it\n",
    "ims = flopy.mf6.ModflowIms(sim)\n",
    "\n",
    "# dis\n",
    "dis = flopy.mf6.ModflowGwfdis(gwf, nlay=nlay, nrow=nrow, ncol=ncol,\n",
    "                              delr=delr, delc=delc,\n",
    "                              top=top, botm=botm, idomain=idomain)\n",
    "\n",
    "# initial conditions\n",
    "ic = flopy.mf6.ModflowGwfic(gwf, pname='ic', strt=320.)\n",
    "\n",
    "# node property flow\n",
    "npf = flopy.mf6.ModflowGwfnpf(gwf, save_specific_discharge=True,\n",
    "                              icelltype=[1,0,0], \n",
    "                              k=[50.0, 0.01, 200.0],\n",
    "                              k33=[10., 0.01, 20.])\n",
    "\n",
    "# rch\n",
    "aux = [np.ones((nrow, ncol), dtype=np.int)*6]\n",
    "rch = flopy.mf6.ModflowGwfrcha(gwf, recharge=0.005, \n",
    "                               auxiliary=[('iface',)], \n",
    "                               aux={0: [6]})\n",
    "# riv\n",
    "riv = flopy.mf6.ModflowGwfriv(gwf, stress_period_data=rivspd)\n",
    "\n",
    "# output control\n",
    "oc = flopy.mf6.ModflowGwfoc(gwf, pname='oc', budget_filerecord='{}.cbc'.format(model_name),\n",
    "                            head_filerecord='{}.hds'.format(model_name),\n",
    "                            headprintrecord=[('COLUMNS', 10, 'WIDTH', 15,\n",
    "                                              'DIGITS', 6, 'GENERAL')],\n",
    "                            saverecord=[('HEAD', 'ALL'), ('BUDGET', 'ALL')],\n",
    "                            printrecord=[('HEAD', 'ALL'), ('BUDGET', 'ALL')])\n",
    "\n",
    "# create child gwf model\n",
    "cmodel_name = 'ex05c'\n",
    "cgwf = flopy.mf6.ModflowGwf(sim, modelname=cmodel_name,\n",
    "                           model_nam_file='{}.nam'.format(cmodel_name))\n",
    "cgwf.name_file.save_flows = True\n",
    "cnlay, cnrow, cncol = lgr.get_shape()\n",
    "cdelr, cdelc = lgr.get_delr_delc()\n",
    "ctop, cbotm = lgr.get_top_botm()\n",
    "xorigin, yorigin = lgr.get_lower_left()\n",
    "cidomain = lgr.get_idomain()\n",
    "cdis = flopy.mf6.ModflowGwfdis(cgwf, nlay=cnlay, nrow=cnrow, ncol=cncol,\n",
    "                               delr=cdelr, delc=cdelc,\n",
    "                               top=ctop, botm=cbotm, idomain=cidomain,\n",
    "                               xorigin=xorigin, yorigin=yorigin)\n",
    "cic = flopy.mf6.ModflowGwfic(cgwf, pname='ic', strt=320.)\n",
    "cnpf = flopy.mf6.ModflowGwfnpf(cgwf, save_specific_discharge=True,\n",
    "                              icelltype=[1,0,0], \n",
    "                              k=[50.0, 0.01, 200.0],\n",
    "                              k33=[10., 0.01, 20.])\n",
    "# rch\n",
    "aux = [np.ones((nrow, ncol), dtype=np.int)*6]\n",
    "rch = flopy.mf6.ModflowGwfrcha(cgwf, recharge=0.005, \n",
    "                               auxiliary=[('iface',)], \n",
    "                               aux={0: [6]})\n",
    "welspd = [[(cnlay - 1, int(cnrow / 2), int(cncol / 2)), -1.5e5]]\n",
    "wel = flopy.mf6.ModflowGwfwel(cgwf, print_input=True,\n",
    "                              stress_period_data=welspd)\n",
    "oc = flopy.mf6.ModflowGwfoc(cgwf, pname='oc', budget_filerecord='{}.cbc'.format(cmodel_name),\n",
    "                            head_filerecord='{}.hds'.format(cmodel_name),\n",
    "                            headprintrecord=[('COLUMNS', 10, 'WIDTH', 15,\n",
    "                                              'DIGITS', 6, 'GENERAL')],\n",
    "                            saverecord=[('HEAD', 'ALL'), ('BUDGET', 'ALL')],\n",
    "                            printrecord=[('HEAD', 'ALL'), ('BUDGET', 'ALL')])\n",
    "\n",
    "# exchange information\n",
    "exchangedata = lgr.get_exchange_data(angldegx=True, cdist=True)\n",
    "nexg = len(exchangedata)\n",
    "gwfe = flopy.mf6.ModflowGwfgwf(sim, exgtype='gwf6-gwf6', \n",
    "                               exgmnamea='ex05', exgmnameb='ex05c', \n",
    "                               nexg=nexg, auxiliary=[('angldegx', 'cdist')], \n",
    "                               exchangedata=exchangedata)\n",
    "\n",
    "sim.write_simulation()\n",
    "sim.run_simulation()"
   ]
  },
  {
   "cell_type": "code",
   "execution_count": 30,
   "metadata": {},
   "outputs": [
    {
     "data": {
      "text/plain": [
       "xll:3500.0; yll:3500.0; rotation:0.0; units:undefined; lenuni:0"
      ]
     },
     "execution_count": 30,
     "metadata": {},
     "output_type": "execute_result"
    }
   ],
   "source": [
    "m = sim.get_model(list(sim.model_dict.keys())[0])\n",
    "mc = sim.get_model(list(sim.model_dict.keys())[1])\n",
    "mc.modelgrid"
   ]
  },
  {
   "cell_type": "code",
   "execution_count": null,
   "metadata": {},
   "outputs": [],
   "source": []
  },
  {
   "cell_type": "code",
   "execution_count": null,
   "metadata": {},
   "outputs": [],
   "source": []
  },
  {
   "cell_type": "code",
   "execution_count": 46,
   "metadata": {},
   "outputs": [
    {
     "data": {
      "text/plain": [
       "<matplotlib.collections.LineCollection at 0x1558ee890>"
      ]
     },
     "execution_count": 46,
     "metadata": {},
     "output_type": "execute_result"
    },
    {
     "data": {
      "image/png": "[encoded data removed]",
      "text/plain": [
       "<Figure size 600x600 with 1 Axes>"
      ]
     },
     "metadata": {},
     "output_type": "display_data"
    }
   ],
   "source": [
    "fig, ax = plt.subplots(figsize=(6,6))\n",
    "mm = flopy.plot.map.PlotMapView(m, ax=ax)\n",
    "pmv = flopy.plot.map.PlotMapView(mc, ax=ax)\n",
    "mm.plot_grid(lw=5)\n",
    "pmv.plot_grid(lw=3)"
   ]
  },
  {
   "cell_type": "code",
   "execution_count": 9,
   "metadata": {},
   "outputs": [],
   "source": [
    "def get_data(model_ws, model_name):\n",
    "    # Load binary grid file\n",
    "    fname = os.path.join(model_ws, model_name + '.dis.grb')\n",
    "    grd = flopy.utils.MfGrdFile(fname, verbose=False)\n",
    "    sr = grd.get_spatialreference()\n",
    "    \n",
    "    # load the heads and budget files\n",
    "    fname = os.path.join(model_ws, model_name + '.hds')\n",
    "    hdobj = flopy.utils.HeadFile(fname)\n",
    "    head = hdobj.get_data()\n",
    "    head = np.ma.masked_equal(head, 1e30)\n",
    "    nlay = hdobj.nlay\n",
    "    nrow = hdobj.nrow\n",
    "    ncol = hdobj.ncol\n",
    "    nodes = nlay * nrow * ncol\n",
    "\n",
    "    fname = os.path.join(model_ws, model_name + '.cbc')\n",
    "    cbb = flopy.utils.CellBudgetFile(fname, precision='double')\n",
    "    spdis = cbb.get_data(text='DATA-SPDIS')[0]\n",
    "    qx = np.ones((nodes), dtype=np.float) * 1.e30\n",
    "    qy = np.ones((nodes), dtype=np.float) * 1.e30\n",
    "    qz = np.ones((nodes), dtype=np.float) * 1.e30\n",
    "    n0 = spdis['node'] - 1\n",
    "    qx[n0] = spdis['qx']\n",
    "    qy[n0] = spdis['qy']\n",
    "    qz[n0] = spdis['qz']\n",
    "    qx = qx.reshape(nlay, nrow, ncol)\n",
    "    qy = qy.reshape(nlay, nrow, ncol)\n",
    "    qz = qz.reshape(nlay, nrow, ncol)\n",
    "    qx = np.ma.masked_equal(qx, 1.e30)\n",
    "    qy = np.ma.masked_equal(qy, 1.e30)\n",
    "    qz = np.ma.masked_equal(qz, 1.e30)\n",
    "    return sr, head, qx, qy"
   ]
  },
  {
   "cell_type": "code",
   "execution_count": 10,
   "metadata": {},
   "outputs": [],
   "source": [
    "def make_map(ax, ilay, sr, head, qx, qy, vmin=None, vmax=None, levels=None):\n",
    "    quadmesh = sr.plot_array(head[ilay], ax)\n",
    "    #quadmesh.set(edgecolor='k')\n",
    "    quadmesh.set_clim(vmin=vmin, vmax=vmax)\n",
    "    quadmesh.set(cmap='jet')\n",
    "    contour_set = sr.contour_array(ax, head[ilay], levels=levels, colors='white')\n",
    "    if qx is not None:\n",
    "        quiver = ax.quiver(sr.xcentergrid, sr.ycentergrid, qx[ilay], qy[ilay])\n",
    "    return"
   ]
  },
  {
   "cell_type": "code",
   "execution_count": 11,
   "metadata": {},
   "outputs": [
    {
     "ename": "AttributeError",
     "evalue": "module 'flopy.utils' has no attribute 'MfGrdFile'",
     "output_type": "error",
     "traceback": [
      "\u001b[0;31m---------------------------------------------------------------------------\u001b[0m",
      "\u001b[0;31mAttributeError\u001b[0m                            Traceback (most recent call last)",
      "Cell \u001b[0;32mIn [11], line 6\u001b[0m\n\u001b[1;32m      2\u001b[0m ax \u001b[38;5;241m=\u001b[39m plt\u001b[38;5;241m.\u001b[39msubplot(\u001b[38;5;241m1\u001b[39m, \u001b[38;5;241m1\u001b[39m, \u001b[38;5;241m1\u001b[39m, aspect\u001b[38;5;241m=\u001b[39m\u001b[38;5;124m'\u001b[39m\u001b[38;5;124mequal\u001b[39m\u001b[38;5;124m'\u001b[39m)\n\u001b[1;32m      4\u001b[0m ilay \u001b[38;5;241m=\u001b[39m \u001b[38;5;241m1\u001b[39m\n\u001b[0;32m----> 6\u001b[0m dp \u001b[38;5;241m=\u001b[39m \u001b[43mget_data\u001b[49m\u001b[43m(\u001b[49m\u001b[43mmodel_ws\u001b[49m\u001b[43m,\u001b[49m\u001b[43m \u001b[49m\u001b[43mmodel_name\u001b[49m\u001b[43m)\u001b[49m\n\u001b[1;32m      7\u001b[0m dc \u001b[38;5;241m=\u001b[39m get_data(model_ws, cmodel_name)\n\u001b[1;32m      8\u001b[0m vmin \u001b[38;5;241m=\u001b[39m \u001b[38;5;28mmin\u001b[39m(dp[\u001b[38;5;241m1\u001b[39m]\u001b[38;5;241m.\u001b[39mmin(), dc[\u001b[38;5;241m1\u001b[39m]\u001b[38;5;241m.\u001b[39mmin())\n",
      "Cell \u001b[0;32mIn [9], line 4\u001b[0m, in \u001b[0;36mget_data\u001b[0;34m(model_ws, model_name)\u001b[0m\n\u001b[1;32m      1\u001b[0m \u001b[38;5;28;01mdef\u001b[39;00m \u001b[38;5;21mget_data\u001b[39m(model_ws, model_name):\n\u001b[1;32m      2\u001b[0m     \u001b[38;5;66;03m# Load binary grid file\u001b[39;00m\n\u001b[1;32m      3\u001b[0m     fname \u001b[38;5;241m=\u001b[39m os\u001b[38;5;241m.\u001b[39mpath\u001b[38;5;241m.\u001b[39mjoin(model_ws, model_name \u001b[38;5;241m+\u001b[39m \u001b[38;5;124m'\u001b[39m\u001b[38;5;124m.dis.grb\u001b[39m\u001b[38;5;124m'\u001b[39m)\n\u001b[0;32m----> 4\u001b[0m     grd \u001b[38;5;241m=\u001b[39m \u001b[43mflopy\u001b[49m\u001b[38;5;241;43m.\u001b[39;49m\u001b[43mutils\u001b[49m\u001b[38;5;241;43m.\u001b[39;49m\u001b[43mMfGrdFile\u001b[49m(fname, verbose\u001b[38;5;241m=\u001b[39m\u001b[38;5;28;01mFalse\u001b[39;00m)\n\u001b[1;32m      5\u001b[0m     sr \u001b[38;5;241m=\u001b[39m grd\u001b[38;5;241m.\u001b[39mget_spatialreference()\n\u001b[1;32m      7\u001b[0m     \u001b[38;5;66;03m# load the heads and budget files\u001b[39;00m\n",
      "\u001b[0;31mAttributeError\u001b[0m: module 'flopy.utils' has no attribute 'MfGrdFile'"
     ]
    },
    {
     "data": {
      "image/png": "[encoded data removed]",
      "text/plain": [
       "<Figure size 1500x1500 with 1 Axes>"
      ]
     },
     "metadata": {},
     "output_type": "display_data"
    }
   ],
   "source": [
    "fig = plt.figure(figsize=(15, 15))\n",
    "ax = plt.subplot(1, 1, 1, aspect='equal')\n",
    "\n",
    "ilay = 1\n",
    "\n",
    "dp = get_data(model_ws, model_name)\n",
    "dc = get_data(model_ws, cmodel_name)\n",
    "vmin = min(dp[1].min(), dc[1].min())\n",
    "vmax = max(dp[1].max(), dc[1].max())\n",
    "levels = np.linspace(vmin, vmax, 20)\n",
    "\n",
    "make_map(ax, ilay, *dp, vmin=vmin, vmax=vmax, levels=levels)\n",
    "#make_map(ax, ilay, *dc, vmin=vmin, vmax=vmax, levels=levels)"
   ]
  },
  {
   "cell_type": "code",
   "execution_count": null,
   "metadata": {},
   "outputs": [],
   "source": [
    "fig = plt.figure(figsize=(15, 15))\n",
    "ax = plt.subplot(1, 1, 1, aspect='equal')\n",
    "\n",
    "ilay = 1\n",
    "\n",
    "dp = get_data(model_ws, model_name)\n",
    "dc = get_data(model_ws, cmodel_name)\n",
    "vmin = min(dp[1].min(), dc[1].min())\n",
    "vmax = max(dp[1].max(), dc[1].max())\n",
    "levels = np.linspace(vmin, vmax, 20)\n",
    "\n",
    "#make_map(ax, ilay, *dp, vmin=vmin, vmax=vmax, levels=levels)\n",
    "make_map(ax, ilay, *dc, vmin=vmin, vmax=vmax, levels=levels)"
   ]
  },
  {
   "cell_type": "code",
   "execution_count": null,
   "metadata": {},
   "outputs": [],
   "source": [
    "fig = plt.figure(figsize=(15, 15))\n",
    "ax = plt.subplot(1, 1, 1, aspect='equal')\n",
    "\n",
    "ilay = 1\n",
    "\n",
    "dp = get_data(model_ws, model_name)\n",
    "dc = get_data(model_ws, cmodel_name)\n",
    "vmin = min(dp[1].min(), dc[1].min())\n",
    "vmax = max(dp[1].max(), dc[1].max())\n",
    "levels = np.linspace(vmin, vmax, 20)\n",
    "\n",
    "make_map(ax, ilay, *dp, vmin=vmin, vmax=vmax, levels=levels)\n",
    "make_map(ax, ilay, *dc, vmin=vmin, vmax=vmax, levels=levels)"
   ]
  },
  {
   "cell_type": "code",
   "execution_count": null,
   "metadata": {},
   "outputs": [],
   "source": []
  }
 ],
 "metadata": {
  "kernelspec": {
   "display_name": "Python 3 (ipykernel)",
   "language": "python",
   "name": "python3"
  },
  "language_info": {
   "codemirror_mode": {
    "name": "ipython",
    "version": 3
   },
   "file_extension": ".py",
   "mimetype": "text/x-python",
   "name": "python",
   "nbconvert_exporter": "python",
   "pygments_lexer": "ipython3",
   "version": "3.11.0"
  }
 },
 "nbformat": 4,
 "nbformat_minor": 2
}
