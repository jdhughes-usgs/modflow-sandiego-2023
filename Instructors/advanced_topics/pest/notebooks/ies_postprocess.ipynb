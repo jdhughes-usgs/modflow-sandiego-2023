{
 "cells": [
  {
   "cell_type": "code",
   "execution_count": null,
   "id": "19620d13",
   "metadata": {},
   "outputs": [],
   "source": [
    "import pandas as pd\n",
    "import numpy as np\n",
    "import matplotlib.pyplot as plt\n",
    "from matplotlib.backends.backend_pdf import PdfPages\n",
    "import pyemu\n",
    "from pathlib import Path\n",
    "import os, shutil"
   ]
  },
  {
   "cell_type": "code",
   "execution_count": null,
   "id": "e8130527",
   "metadata": {},
   "outputs": [],
   "source": [
    "ies_dir = Path('../tmprun/')"
   ]
  },
  {
   "cell_type": "markdown",
   "id": "36e3c8ae",
   "metadata": {},
   "source": [
    "## take a look at the prior MC "
   ]
  },
  {
   "cell_type": "code",
   "execution_count": null,
   "id": "5b2cdc30",
   "metadata": {},
   "outputs": [],
   "source": [
    "phi = pd.read_csv(ies_dir / 'mv.ies.phi.actual.csv').T.iloc[6:]\n",
    "phi0 = phi[0]"
   ]
  },
  {
   "cell_type": "code",
   "execution_count": null,
   "id": "6a39ed13",
   "metadata": {
    "scrolled": false
   },
   "outputs": [],
   "source": [
    "phi0.hist(bins=50)\n"
   ]
  },
  {
   "cell_type": "markdown",
   "id": "6689ce76",
   "metadata": {},
   "source": [
    "## let's check out the observations"
   ]
  },
  {
   "cell_type": "code",
   "execution_count": null,
   "id": "bec653d4",
   "metadata": {},
   "outputs": [],
   "source": [
    "pst = pyemu.Pst(str(ies_dir / 'mv.ies.pst'))"
   ]
  },
  {
   "cell_type": "code",
   "execution_count": null,
   "id": "0eec8357",
   "metadata": {},
   "outputs": [],
   "source": [
    "obsdat = pst.observation_data.copy()\n",
    "obsdat.sample(5)"
   ]
  },
  {
   "cell_type": "code",
   "execution_count": null,
   "id": "ac31a6bb",
   "metadata": {},
   "outputs": [],
   "source": [
    "citer = 3\n",
    "obs = pd.read_csv(ies_dir / 'mv.ies.0.obs.csv', index_col=0)\n",
    "obs_final = pd.read_csv(ies_dir / f'mv.ies.{citer}.obs.csv', index_col=0)"
   ]
  },
  {
   "cell_type": "code",
   "execution_count": null,
   "id": "d9c6f4fb",
   "metadata": {},
   "outputs": [],
   "source": [
    "with PdfPages('allobs.pdf') as outpdf:\n",
    "    for cc in obs.columns:\n",
    "        plt.figure()\n",
    "        ax = obs[cc].hist(bins=20, color='grey', alpha=.5, density=1)\n",
    "        obs_final[cc].hist(bins=20, color='blue', density=1)\n",
    "        ax.axvline(obsdat.loc[cc].obsval, color='orange')\n",
    "        plt.title(cc)\n",
    "        plt.tight_layout()\n",
    "        outpdf.savefig()\n",
    "        plt.close('all')"
   ]
  },
  {
   "cell_type": "code",
   "execution_count": null,
   "id": "3905cc63",
   "metadata": {},
   "outputs": [],
   "source": [
    "phi = pd.read_csv(ies_dir / 'mv.ies.phi.actual.csv').T.iloc[6:]\n",
    "for cc in phi.columns:\n",
    "    phi.loc[phi[cc]>1e6,cc] = np.nan"
   ]
  },
  {
   "cell_type": "code",
   "execution_count": null,
   "id": "fa9c32c8",
   "metadata": {},
   "outputs": [],
   "source": [
    "fig, ax = plt.subplots(1,2, figsize=(8,5))\n",
    "phi.T.plot(legend=False, color='grey',alpha=.2, lw=0.5, ax=ax[0])\n",
    "phi.loc['base'].plot(color='b', ax=ax[0])\n",
    "ax[0].set_yscale('log')\n",
    "ax[0].set_title('log-scale $\\\\Phi$')\n",
    "phi.T.plot(legend=False, color='grey',alpha=.2, lw=0.5, ax=ax[1])\n",
    "phi.loc['base'].plot(color='b', ax=ax[1])\n",
    "ax[1].set_title('linear-scale $\\\\Phi$');\n"
   ]
  },
  {
   "cell_type": "markdown",
   "id": "01664344",
   "metadata": {},
   "source": [
    "# Visualize a single set of fields"
   ]
  },
  {
   "cell_type": "code",
   "execution_count": null,
   "id": "82ac835e",
   "metadata": {},
   "outputs": [],
   "source": [
    "tmpdir = Path('../scratch')\n",
    "if tmpdir.exists():\n",
    "    shutil.rmtree(tmpdir)\n",
    "shutil.copytree(ies_dir, tmpdir)"
   ]
  },
  {
   "cell_type": "code",
   "execution_count": null,
   "id": "561f162b",
   "metadata": {},
   "outputs": [],
   "source": [
    "pst = pyemu.Pst(str(tmpdir / 'mv.ies.pst'))"
   ]
  },
  {
   "cell_type": "code",
   "execution_count": null,
   "id": "0c87f231",
   "metadata": {},
   "outputs": [],
   "source": [
    "pars = pd.read_csv(ies_dir / 'mv.ies.3.par.csv', index_col=0)\n",
    "pars"
   ]
  },
  {
   "cell_type": "code",
   "execution_count": null,
   "id": "df64b042",
   "metadata": {},
   "outputs": [],
   "source": [
    "pst.control_data.noptmax=0"
   ]
  },
  {
   "cell_type": "markdown",
   "id": "925261d5",
   "metadata": {},
   "source": [
    "### good to check out the base realization, but could choose another"
   ]
  },
  {
   "cell_type": "code",
   "execution_count": null,
   "id": "3218e4d4",
   "metadata": {},
   "outputs": [],
   "source": [
    "real_to_plot = 'base'"
   ]
  },
  {
   "cell_type": "code",
   "execution_count": null,
   "id": "e405bd96",
   "metadata": {},
   "outputs": [],
   "source": [
    "pst.parameter_data.loc[pars.loc[real_to_plot].index, 'parval1'] = pars.loc[real_to_plot]"
   ]
  },
  {
   "cell_type": "code",
   "execution_count": null,
   "id": "d14933d0",
   "metadata": {},
   "outputs": [],
   "source": [
    "pst.write(str(tmpdir / 'testrun.pst'), version=2)"
   ]
  },
  {
   "cell_type": "code",
   "execution_count": null,
   "id": "28666175",
   "metadata": {},
   "outputs": [],
   "source": [
    "pyemu.os_utils.run('pestpp-ies testrun.pst', str(tmpdir))"
   ]
  },
  {
   "cell_type": "markdown",
   "id": "6fc9064c",
   "metadata": {},
   "source": [
    "## viz the k fields"
   ]
  },
  {
   "cell_type": "code",
   "execution_count": null,
   "id": "ccdd6467",
   "metadata": {},
   "outputs": [],
   "source": [
    "fig,ax = plt.subplots(1,2,figsize=(10,5))\n",
    "a = ax[0].imshow(np.loadtxt(tmpdir / 'k_aq.ref'))\n",
    "plt.colorbar(a)\n",
    "ax[0].set_title('Aquifer KH')\n",
    "c = ax[1].imshow(np.loadtxt(tmpdir / 'k_clay.ref'))\n",
    "ax[1].set_title('Clay Layer KH')\n",
    "plt.colorbar(c)\n",
    "plt.suptitle(f'realization: {real_to_plot}, iteration: {citer}')"
   ]
  },
  {
   "cell_type": "code",
   "execution_count": null,
   "id": "69de081d",
   "metadata": {},
   "outputs": [],
   "source": [
    "plt.imshow(np.loadtxt('../pest_background_files/k_aq.ref'))\n",
    "plt.colorbar()"
   ]
  },
  {
   "cell_type": "code",
   "execution_count": null,
   "id": "aa75af63",
   "metadata": {},
   "outputs": [],
   "source": [
    "pars.kaniso.hist(bins=50)\n",
    "plt.title('Anisotropy: aquifer');"
   ]
  },
  {
   "cell_type": "code",
   "execution_count": null,
   "id": "29a311c6",
   "metadata": {},
   "outputs": [],
   "source": [
    "pars.kaniso_clay.hist(bins=50)\n",
    "plt.title('Anisotropy: clay layer');"
   ]
  },
  {
   "cell_type": "code",
   "execution_count": null,
   "id": "071d253b",
   "metadata": {},
   "outputs": [],
   "source": [
    "pars.rch.hist(bins=50)\n",
    "plt.title('Recharge');"
   ]
  },
  {
   "cell_type": "code",
   "execution_count": null,
   "id": "d74d4b59",
   "metadata": {},
   "outputs": [],
   "source": []
  }
 ],
 "metadata": {
  "kernelspec": {
   "display_name": "Python 3 (ipykernel)",
   "language": "python",
   "name": "python3"
  },
  "language_info": {
   "codemirror_mode": {
    "name": "ipython",
    "version": 3
   },
   "file_extension": ".py",
   "mimetype": "text/x-python",
   "name": "python",
   "nbconvert_exporter": "python",
   "pygments_lexer": "ipython3",
   "version": "3.9.15"
  }
 },
 "nbformat": 4,
 "nbformat_minor": 5
}
